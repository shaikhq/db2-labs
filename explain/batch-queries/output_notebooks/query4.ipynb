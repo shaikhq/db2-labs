{
 "cells": [
  {
   "cell_type": "markdown",
   "id": "f1bc5ea8",
   "metadata": {
    "papermill": {
     "duration": 0.007112,
     "end_time": "2025-02-25T03:54:52.903492",
     "exception": false,
     "start_time": "2025-02-25T03:54:52.896380",
     "status": "completed"
    },
    "tags": []
   },
   "source": [
    "# 📊 Automating the Collection of EXPLAIN Plans and Runtime Metrics in Db2 LUW\n",
    "This notebook automates the process of running a SQL query in Db2 and capturing its execution details using EXPLAIN tables and activity event monitors. The workflow includes:\n",
    "\n",
    "1. **Setup of Activity Event Monitor:** Configures an event monitor in Db2 to collect runtime metrics such as execution time and resource usage during query execution.\n",
    "2. **Creation of EXPLAIN Tables:** Sets up EXPLAIN tables in Db2 to store detailed execution plans for SQL queries.\n",
    "3. **Query Execution:** Runs a SQL query to gather execution metrics and analyze its performance.\n",
    "4. **EXPLAIN Plan Generation:** Captures the execution plan of the query to understand how Db2 will process the operation.\n",
    "5. **Exporting Data:** Exports the collected EXPLAIN and activity monitor data as CSV files for external analysis or reporting.\n",
    "\n",
    "For detailed setup instructions and guidance on running this notebook, refer to the [README.md](./README.md) file in the same directory.\n",
    "\n",
    "This notebook provides a fully automated approach for analyzing query performance and gathering runtime metrics, helping database administrators and developers optimize their queries effectively.\n"
   ]
  },
  {
   "cell_type": "code",
   "execution_count": 1,
   "id": "c318f812",
   "metadata": {
    "execution": {
     "iopub.execute_input": "2025-02-25T03:54:52.919059Z",
     "iopub.status.busy": "2025-02-25T03:54:52.918597Z",
     "iopub.status.idle": "2025-02-25T03:54:53.465663Z",
     "shell.execute_reply": "2025-02-25T03:54:53.464483Z"
    },
    "papermill": {
     "duration": 0.558268,
     "end_time": "2025-02-25T03:54:53.467833",
     "exception": false,
     "start_time": "2025-02-25T03:54:52.909565",
     "status": "completed"
    },
    "tags": []
   },
   "outputs": [],
   "source": [
    "import os\n",
    "from dotenv import dotenv_values\n",
    "import json\n",
    "import shutil\n",
    "import pandas as pd"
   ]
  },
  {
   "cell_type": "code",
   "execution_count": 2,
   "id": "9c2418ad",
   "metadata": {
    "execution": {
     "iopub.execute_input": "2025-02-25T03:54:53.483225Z",
     "iopub.status.busy": "2025-02-25T03:54:53.481993Z",
     "iopub.status.idle": "2025-02-25T03:54:53.487204Z",
     "shell.execute_reply": "2025-02-25T03:54:53.486168Z"
    },
    "papermill": {
     "duration": 0.014978,
     "end_time": "2025-02-25T03:54:53.489227",
     "exception": false,
     "start_time": "2025-02-25T03:54:53.474249",
     "status": "completed"
    },
    "tags": [
     "parameters"
    ]
   },
   "outputs": [],
   "source": [
    "# Parameters (These values will be overwritten when called by papermill)\n",
    "queryid = None\n",
    "sql_statement = None"
   ]
  },
  {
   "cell_type": "code",
   "execution_count": 3,
   "id": "dc548976",
   "metadata": {
    "execution": {
     "iopub.execute_input": "2025-02-25T03:54:53.506309Z",
     "iopub.status.busy": "2025-02-25T03:54:53.505896Z",
     "iopub.status.idle": "2025-02-25T03:54:53.512961Z",
     "shell.execute_reply": "2025-02-25T03:54:53.511182Z"
    },
    "papermill": {
     "duration": 0.017904,
     "end_time": "2025-02-25T03:54:53.514901",
     "exception": false,
     "start_time": "2025-02-25T03:54:53.496997",
     "status": "completed"
    },
    "tags": [
     "injected-parameters"
    ]
   },
   "outputs": [],
   "source": [
    "# Parameters\n",
    "queryid = \"query4\"\n",
    "sql_statement = \"SELECT SR_ADDR_SK, SR_CDEMO_SK, SR_RETURN_AMT, SR_RETURN_AMT_INC_TAX, SR_RETURN_TIME_SK, SR_REVERSED_CHARGE, SR_STORE_CREDIT, SS_EXT_DISCOUNT_AMT, SS_SOLD_DATE_SK, SS_LIST_PRICE, SS_QUANTITY, SS_SALES_PRICE, SS_SOLD_TIME_SK, SS_WHOLESALE_COST FROM STORE_RETURNS JOIN STORE_SALES ON SR_ITEM_SK = SS_ITEM_SK AND SR_CUSTOMER_SK = SS_CUSTOMER_SK AND SS_TICKET_NUMBER = SR_TICKET_NUMBER\"\n"
   ]
  },
  {
   "cell_type": "markdown",
   "id": "519374fd",
   "metadata": {
    "papermill": {
     "duration": 0.007516,
     "end_time": "2025-02-25T03:54:53.530334",
     "exception": false,
     "start_time": "2025-02-25T03:54:53.522818",
     "status": "completed"
    },
    "tags": []
   },
   "source": [
    "Loading Db2 Magic Commands Notebook Extension"
   ]
  },
  {
   "cell_type": "code",
   "execution_count": 4,
   "id": "10d83131",
   "metadata": {
    "execution": {
     "iopub.execute_input": "2025-02-25T03:54:53.547524Z",
     "iopub.status.busy": "2025-02-25T03:54:53.547143Z",
     "iopub.status.idle": "2025-02-25T03:54:54.747807Z",
     "shell.execute_reply": "2025-02-25T03:54:54.746636Z"
    },
    "papermill": {
     "duration": 1.212414,
     "end_time": "2025-02-25T03:54:54.750217",
     "exception": false,
     "start_time": "2025-02-25T03:54:53.537803",
     "status": "completed"
    },
    "tags": []
   },
   "outputs": [
    {
     "name": "stderr",
     "output_type": "stream",
     "text": [
      "<>:1708: SyntaxWarning: invalid escape sequence '\\s'\n",
      "<>:2305: SyntaxWarning: invalid escape sequence '\\?'\n",
      "/tmp/ipykernel_432300/2299624180.py:1708: SyntaxWarning: invalid escape sequence '\\s'\n",
      "  firstCommand = \"(?:^\\s*)([a-zA-Z]+)(?:\\s+.*|$)\"\n",
      "/tmp/ipykernel_432300/2299624180.py:2305: SyntaxWarning: invalid escape sequence '\\?'\n",
      "  pattern = \"\\?\\*[0-9]+\"\n"
     ]
    },
    {
     "name": "stdout",
     "output_type": "stream",
     "text": [
      "Db2 Extensions Loaded. Version: 2024-09-16\n"
     ]
    }
   ],
   "source": [
    "# Enable Db2 Magic Commands Extensions for Jupyter Notebook\n",
    "if not os.path.isfile('db2.ipynb'):\n",
    "    os.system('wget https://raw.githubusercontent.com/IBM/db2-jupyter/master/db2.ipynb')\n",
    "%run db2.ipynb"
   ]
  },
  {
   "cell_type": "code",
   "execution_count": 5,
   "id": "ebaeac84",
   "metadata": {
    "execution": {
     "iopub.execute_input": "2025-02-25T03:54:54.771846Z",
     "iopub.status.busy": "2025-02-25T03:54:54.770428Z",
     "iopub.status.idle": "2025-02-25T03:54:54.778105Z",
     "shell.execute_reply": "2025-02-25T03:54:54.776630Z"
    },
    "papermill": {
     "duration": 0.020491,
     "end_time": "2025-02-25T03:54:54.780723",
     "exception": false,
     "start_time": "2025-02-25T03:54:54.760232",
     "status": "completed"
    },
    "tags": []
   },
   "outputs": [],
   "source": [
    "import os\n",
    "\n",
    "# Define the top-level output directory\n",
    "top_level_dir = os.path.join(os.getcwd(), \"output\")\n",
    "\n",
    "# Create the top-level directory only if it doesn't exist\n",
    "os.makedirs(top_level_dir, exist_ok=True)"
   ]
  },
  {
   "cell_type": "markdown",
   "id": "df2fc779",
   "metadata": {
    "papermill": {
     "duration": 0.007939,
     "end_time": "2025-02-25T03:54:54.796646",
     "exception": false,
     "start_time": "2025-02-25T03:54:54.788707",
     "status": "completed"
    },
    "tags": []
   },
   "source": [
    "Connect to Db2"
   ]
  },
  {
   "cell_type": "code",
   "execution_count": 6,
   "id": "972b223b",
   "metadata": {
    "execution": {
     "iopub.execute_input": "2025-02-25T03:54:54.815218Z",
     "iopub.status.busy": "2025-02-25T03:54:54.814252Z",
     "iopub.status.idle": "2025-02-25T03:54:54.903238Z",
     "shell.execute_reply": "2025-02-25T03:54:54.901751Z"
    },
    "papermill": {
     "duration": 0.101063,
     "end_time": "2025-02-25T03:54:54.905525",
     "exception": false,
     "start_time": "2025-02-25T03:54:54.804462",
     "status": "completed"
    },
    "tags": []
   },
   "outputs": [
    {
     "name": "stdout",
     "output_type": "stream",
     "text": [
      "Connection successful. tpcds @ localhost \n"
     ]
    }
   ],
   "source": [
    "db2creds = dotenv_values('.env')\n",
    "%sql CONNECT CREDENTIALS db2creds"
   ]
  },
  {
   "cell_type": "code",
   "execution_count": 7,
   "id": "cfbb6814",
   "metadata": {
    "execution": {
     "iopub.execute_input": "2025-02-25T03:54:54.922944Z",
     "iopub.status.busy": "2025-02-25T03:54:54.921889Z",
     "iopub.status.idle": "2025-02-25T03:54:54.937876Z",
     "shell.execute_reply": "2025-02-25T03:54:54.936544Z"
    },
    "papermill": {
     "duration": 0.028292,
     "end_time": "2025-02-25T03:54:54.940222",
     "exception": false,
     "start_time": "2025-02-25T03:54:54.911930",
     "status": "completed"
    },
    "tags": []
   },
   "outputs": [
    {
     "name": "stdout",
     "output_type": "stream",
     "text": [
      "Command completed.\n"
     ]
    }
   ],
   "source": [
    "# Activate event monitor\n",
    "%sql SET EVENT MONITOR ACTEVMON STATE 1;"
   ]
  },
  {
   "cell_type": "code",
   "execution_count": 8,
   "id": "c4c35fdd",
   "metadata": {
    "execution": {
     "iopub.execute_input": "2025-02-25T03:54:54.954344Z",
     "iopub.status.busy": "2025-02-25T03:54:54.953980Z",
     "iopub.status.idle": "2025-02-25T03:54:54.980625Z",
     "shell.execute_reply": "2025-02-25T03:54:54.979113Z"
    },
    "papermill": {
     "duration": 0.035868,
     "end_time": "2025-02-25T03:54:54.983165",
     "exception": false,
     "start_time": "2025-02-25T03:54:54.947297",
     "status": "completed"
    },
    "tags": []
   },
   "outputs": [
    {
     "data": {
      "text/plain": [
       "[None, None, None, 'query4', None]"
      ]
     },
     "execution_count": 8,
     "metadata": {},
     "output_type": "execute_result"
    }
   ],
   "source": [
    "# Set client info\n",
    "%sql CALL WLM_SET_CLIENT_INFO(NULL,NULL,NULL,:queryid,NULL);"
   ]
  },
  {
   "cell_type": "code",
   "execution_count": 9,
   "id": "73bcd811",
   "metadata": {
    "execution": {
     "iopub.execute_input": "2025-02-25T03:54:54.997432Z",
     "iopub.status.busy": "2025-02-25T03:54:54.996745Z",
     "iopub.status.idle": "2025-02-25T03:55:06.071346Z",
     "shell.execute_reply": "2025-02-25T03:55:06.060926Z"
    },
    "papermill": {
     "duration": 11.085937,
     "end_time": "2025-02-25T03:55:06.075079",
     "exception": false,
     "start_time": "2025-02-25T03:54:54.989142",
     "status": "completed"
    },
    "tags": []
   },
   "outputs": [
    {
     "name": "stdout",
     "output_type": "stream",
     "text": [
      "Error('[IBM][CLI Driver][DB2/LINUXX8664] SQL4712N  The activity or request was stopped because the threshold \"MAXDBACTIVITYTIME\" has been exceeded. Reason code: \"9\".  SQLSTATE=5U026 SQLCODE=-4712')\n"
     ]
    },
    {
     "data": {
      "text/html": [
       "<p><p style=\"border:2px; border-style:solid; border-color:#FF0000; background-color:#ffe6e6; padding: 1em;\">SQL4712N  The activity or request was stopped because the threshold \"MAXDBACTIVITYTIME\" has been exceeded. Reason code: \"9\".  SQLSTATE=5U026 SQLCODE=-4712</p>"
      ],
      "text/plain": [
       "<IPython.core.display.HTML object>"
      ]
     },
     "metadata": {},
     "output_type": "display_data"
    }
   ],
   "source": [
    "%sql {sql_statement}"
   ]
  },
  {
   "cell_type": "code",
   "execution_count": 10,
   "id": "a05aed65",
   "metadata": {
    "execution": {
     "iopub.execute_input": "2025-02-25T03:55:06.094998Z",
     "iopub.status.busy": "2025-02-25T03:55:06.093617Z",
     "iopub.status.idle": "2025-02-25T03:55:06.110270Z",
     "shell.execute_reply": "2025-02-25T03:55:06.108844Z"
    },
    "papermill": {
     "duration": 0.029085,
     "end_time": "2025-02-25T03:55:06.113092",
     "exception": false,
     "start_time": "2025-02-25T03:55:06.084007",
     "status": "completed"
    },
    "tags": []
   },
   "outputs": [
    {
     "name": "stdout",
     "output_type": "stream",
     "text": [
      "Command completed.\n"
     ]
    }
   ],
   "source": [
    "# Deactivate the event monitor to ensure its data is written to the activity tables\n",
    "%sql SET EVENT MONITOR ACTEVMON STATE 0"
   ]
  },
  {
   "cell_type": "code",
   "execution_count": 11,
   "id": "efbea791",
   "metadata": {
    "execution": {
     "iopub.execute_input": "2025-02-25T03:55:06.126551Z",
     "iopub.status.busy": "2025-02-25T03:55:06.125522Z",
     "iopub.status.idle": "2025-02-25T03:55:06.143050Z",
     "shell.execute_reply": "2025-02-25T03:55:06.141288Z"
    },
    "papermill": {
     "duration": 0.027109,
     "end_time": "2025-02-25T03:55:06.145548",
     "exception": false,
     "start_time": "2025-02-25T03:55:06.118439",
     "status": "completed"
    },
    "tags": []
   },
   "outputs": [],
   "source": [
    "result = %sql SELECT a.APPL_ID, a.UOW_ID, a.ACTIVITY_ID \\\n",
    "    FROM ACTIVITY_ACTEVMON a \\\n",
    "    WHERE a.ACTIVITY_TYPE = 'READ_DML' AND a.TPMON_ACC_STR = :queryid"
   ]
  },
  {
   "cell_type": "code",
   "execution_count": 12,
   "id": "f2509ec5",
   "metadata": {
    "execution": {
     "iopub.execute_input": "2025-02-25T03:55:06.161181Z",
     "iopub.status.busy": "2025-02-25T03:55:06.160688Z",
     "iopub.status.idle": "2025-02-25T03:55:06.166392Z",
     "shell.execute_reply": "2025-02-25T03:55:06.165354Z"
    },
    "papermill": {
     "duration": 0.01557,
     "end_time": "2025-02-25T03:55:06.168533",
     "exception": false,
     "start_time": "2025-02-25T03:55:06.152963",
     "status": "completed"
    },
    "tags": []
   },
   "outputs": [],
   "source": [
    "appl_id = result['APPL_ID'].iloc[0]\n",
    "uow_id = result.at[0, 'UOW_ID'].item()\n",
    "activity_id = result.at[0, 'ACTIVITY_ID'].item()\n",
    "event_monitor = 'ACTEVMON'\n",
    "schema = 'DB2INST1'"
   ]
  },
  {
   "cell_type": "code",
   "execution_count": 13,
   "id": "282ba107",
   "metadata": {
    "execution": {
     "iopub.execute_input": "2025-02-25T03:55:06.182850Z",
     "iopub.status.busy": "2025-02-25T03:55:06.181800Z",
     "iopub.status.idle": "2025-02-25T03:55:06.191977Z",
     "shell.execute_reply": "2025-02-25T03:55:06.190819Z"
    },
    "papermill": {
     "duration": 0.019832,
     "end_time": "2025-02-25T03:55:06.194165",
     "exception": false,
     "start_time": "2025-02-25T03:55:06.174333",
     "status": "completed"
    },
    "tags": []
   },
   "outputs": [
    {
     "name": "stdout",
     "output_type": "stream",
     "text": [
      "                        APPL_ID  UOW_ID  ACTIVITY_ID\n",
      "0  127.0.0.1.46256.250225035454       5            1\n"
     ]
    }
   ],
   "source": [
    "\n",
    "print(result)"
   ]
  },
  {
   "cell_type": "code",
   "execution_count": 14,
   "id": "85429faf",
   "metadata": {
    "execution": {
     "iopub.execute_input": "2025-02-25T03:55:06.212821Z",
     "iopub.status.busy": "2025-02-25T03:55:06.212301Z",
     "iopub.status.idle": "2025-02-25T03:55:06.219033Z",
     "shell.execute_reply": "2025-02-25T03:55:06.218066Z"
    },
    "papermill": {
     "duration": 0.01937,
     "end_time": "2025-02-25T03:55:06.221060",
     "exception": false,
     "start_time": "2025-02-25T03:55:06.201690",
     "status": "completed"
    },
    "tags": []
   },
   "outputs": [
    {
     "name": "stdout",
     "output_type": "stream",
     "text": [
      "appl_id:  127.0.0.1.46256.250225035454\n",
      "uow_id:  5\n",
      "activity_id:  1\n"
     ]
    }
   ],
   "source": [
    "print('appl_id: ', appl_id)\n",
    "print('uow_id: ', uow_id)\n",
    "print('activity_id: ', activity_id)"
   ]
  },
  {
   "cell_type": "code",
   "execution_count": 15,
   "id": "2bb8c29d",
   "metadata": {
    "execution": {
     "iopub.execute_input": "2025-02-25T03:55:06.236520Z",
     "iopub.status.busy": "2025-02-25T03:55:06.235322Z",
     "iopub.status.idle": "2025-02-25T03:55:07.428430Z",
     "shell.execute_reply": "2025-02-25T03:55:07.426894Z"
    },
    "papermill": {
     "duration": 1.203811,
     "end_time": "2025-02-25T03:55:07.431559",
     "exception": false,
     "start_time": "2025-02-25T03:55:06.227748",
     "status": "completed"
    },
    "tags": []
   },
   "outputs": [],
   "source": [
    "%%capture explain_output\n",
    "sql = f'''\"CALL EXPLAIN_FROM_ACTIVITY('{appl_id}', '{uow_id}', '{activity_id}', '{event_monitor}', '{schema}', null, null, null, null, null)\"'''\n",
    "_ = ! db2 \"connect to TPCDS\" \n",
    "\n",
    "explain = %system db2 {sql}"
   ]
  },
  {
   "cell_type": "code",
   "execution_count": 16,
   "id": "0857ffa7",
   "metadata": {
    "execution": {
     "iopub.execute_input": "2025-02-25T03:55:07.451928Z",
     "iopub.status.busy": "2025-02-25T03:55:07.450907Z",
     "iopub.status.idle": "2025-02-25T03:55:07.460374Z",
     "shell.execute_reply": "2025-02-25T03:55:07.459194Z"
    },
    "papermill": {
     "duration": 0.023425,
     "end_time": "2025-02-25T03:55:07.462329",
     "exception": false,
     "start_time": "2025-02-25T03:55:07.438904",
     "status": "completed"
    },
    "tags": []
   },
   "outputs": [
    {
     "name": "stdout",
     "output_type": "stream",
     "text": [
      "EXPLAIN_TIME: 2025-02-24-19.55.07.396569\n",
      "SOURCE_NAME: SYSSH200\n",
      "SOURCE_SCHEMA: NULLID\n"
     ]
    }
   ],
   "source": [
    "# Initialize variables\n",
    "explain_time = None\n",
    "source_name = None\n",
    "source_schema = None\n",
    "\n",
    "# Iterate through the list\n",
    "for i in range(len(explain)):\n",
    "    if \"EXPLAIN_TIME\" in explain[i]:\n",
    "        explain_time = explain[i + 1].split(\":\")[-1].strip()\n",
    "    elif \"SOURCE_NAME\" in explain[i]:\n",
    "        source_name = explain[i + 1].split(\":\")[-1].strip()\n",
    "    elif \"SOURCE_SCHEMA\" in explain[i]:\n",
    "        source_schema = explain[i + 1].split(\":\")[-1].strip()\n",
    "\n",
    "# Print extracted values\n",
    "print(\"EXPLAIN_TIME:\", explain_time)\n",
    "print(\"SOURCE_NAME:\", source_name)\n",
    "print(\"SOURCE_SCHEMA:\", source_schema)"
   ]
  },
  {
   "cell_type": "code",
   "execution_count": 17,
   "id": "33b2f3b6",
   "metadata": {
    "execution": {
     "iopub.execute_input": "2025-02-25T03:55:07.478110Z",
     "iopub.status.busy": "2025-02-25T03:55:07.477136Z",
     "iopub.status.idle": "2025-02-25T03:55:07.487312Z",
     "shell.execute_reply": "2025-02-25T03:55:07.485861Z"
    },
    "papermill": {
     "duration": 0.021641,
     "end_time": "2025-02-25T03:55:07.490180",
     "exception": false,
     "start_time": "2025-02-25T03:55:07.468539",
     "status": "completed"
    },
    "tags": []
   },
   "outputs": [
    {
     "data": {
      "text/plain": [
       "'2025-02-24-19.55.07.396569'"
      ]
     },
     "execution_count": 17,
     "metadata": {},
     "output_type": "execute_result"
    }
   ],
   "source": [
    "explain_time"
   ]
  },
  {
   "cell_type": "code",
   "execution_count": 18,
   "id": "19f19f3e",
   "metadata": {
    "execution": {
     "iopub.execute_input": "2025-02-25T03:55:07.507925Z",
     "iopub.status.busy": "2025-02-25T03:55:07.507122Z",
     "iopub.status.idle": "2025-02-25T03:55:07.515966Z",
     "shell.execute_reply": "2025-02-25T03:55:07.514535Z"
    },
    "papermill": {
     "duration": 0.019292,
     "end_time": "2025-02-25T03:55:07.518348",
     "exception": false,
     "start_time": "2025-02-25T03:55:07.499056",
     "status": "completed"
    },
    "tags": []
   },
   "outputs": [
    {
     "name": "stdout",
     "output_type": "stream",
     "text": [
      "Database Name: tpcds\n"
     ]
    }
   ],
   "source": [
    "from dotenv import dotenv_values\n",
    "\n",
    "# Load environment variables from the .env file\n",
    "db2creds = dotenv_values('.env')\n",
    "\n",
    "# Extract the database name\n",
    "database_name = db2creds.get(\"database\")  # Use .get() to avoid KeyError if the key is missing\n",
    "\n",
    "# Print the extracted database name\n",
    "print(\"Database Name:\", database_name)"
   ]
  },
  {
   "cell_type": "markdown",
   "id": "b9a066a9",
   "metadata": {
    "papermill": {
     "duration": 0.007949,
     "end_time": "2025-02-25T03:55:07.536429",
     "exception": false,
     "start_time": "2025-02-25T03:55:07.528480",
     "status": "completed"
    },
    "tags": []
   },
   "source": [
    "# Generate Explain and Export the Explain output"
   ]
  },
  {
   "cell_type": "code",
   "execution_count": 19,
   "id": "af0ecd06",
   "metadata": {
    "execution": {
     "iopub.execute_input": "2025-02-25T03:55:07.555649Z",
     "iopub.status.busy": "2025-02-25T03:55:07.555258Z",
     "iopub.status.idle": "2025-02-25T03:55:08.682558Z",
     "shell.execute_reply": "2025-02-25T03:55:08.681253Z"
    },
    "papermill": {
     "duration": 1.13769,
     "end_time": "2025-02-25T03:55:08.685024",
     "exception": false,
     "start_time": "2025-02-25T03:55:07.547334",
     "status": "completed"
    },
    "tags": []
   },
   "outputs": [
    {
     "name": "stdout",
     "output_type": "stream",
     "text": [
      "db2exfmt -d \"tpcds\" -w \"2025-02-24-19.55.07.396569\" -n \"SYSSH200\" -s \"NULLID\" -# 0 -o \"/home/db2inst1/db2-labs/explain/batch-queries/output/2025-02-24-19.55.07.396569/explain.out\"\n"
     ]
    },
    {
     "name": "stderr",
     "output_type": "stream",
     "text": [
      "DB2 Universal Database Version 11.5, 5622-044 (c) Copyright IBM Corp. 1991, 2019\n",
      "Licensed Material - Program Property of IBM\n",
      "IBM DATABASE 2 Explain Table Format Tool\n",
      "\n",
      "Connect to Database Successful.\n"
     ]
    },
    {
     "name": "stderr",
     "output_type": "stream",
     "text": [
      "Output is in /home/db2inst1/db2-labs/explain/batch-queries/output/2025-02-24-19.55.07.396569/explain.out.\n",
      "Executing Connect Reset -- Connect Reset was Successful.\n"
     ]
    },
    {
     "name": "stdout",
     "output_type": "stream",
     "text": [
      "Connecting to the Database.\n",
      "SQL statements have been loaded from sql_statements.json\n",
      "Processing table: ACTIVITYSTMT_ACTEVMON\n",
      "Saved ACTIVITYSTMT_ACTEVMON data to /home/db2inst1/db2-labs/explain/batch-queries/output/2025-02-24-19.55.07.396569/ACTIVITYSTMT_ACTEVMON.csv\n",
      "Processing table: ACTIVITY_ACTEVMON\n"
     ]
    },
    {
     "name": "stdout",
     "output_type": "stream",
     "text": [
      "Saved ACTIVITY_ACTEVMON data to /home/db2inst1/db2-labs/explain/batch-queries/output/2025-02-24-19.55.07.396569/ACTIVITY_ACTEVMON.csv\n",
      "Processing table: EXPLAIN_ACTUALS\n",
      "Saved EXPLAIN_ACTUALS data to /home/db2inst1/db2-labs/explain/batch-queries/output/2025-02-24-19.55.07.396569/EXPLAIN_ACTUALS.csv\n",
      "Processing table: EXPLAIN_INSTANCE\n",
      "Saved EXPLAIN_INSTANCE data to /home/db2inst1/db2-labs/explain/batch-queries/output/2025-02-24-19.55.07.396569/EXPLAIN_INSTANCE.csv\n",
      "Processing table: EXPLAIN_OBJECT\n",
      "Saved EXPLAIN_OBJECT data to /home/db2inst1/db2-labs/explain/batch-queries/output/2025-02-24-19.55.07.396569/EXPLAIN_OBJECT.csv\n",
      "Processing table: EXPLAIN_OPERATOR\n",
      "Saved EXPLAIN_OPERATOR data to /home/db2inst1/db2-labs/explain/batch-queries/output/2025-02-24-19.55.07.396569/EXPLAIN_OPERATOR.csv\n",
      "Processing table: EXPLAIN_PREDICATE\n",
      "Saved EXPLAIN_PREDICATE data to /home/db2inst1/db2-labs/explain/batch-queries/output/2025-02-24-19.55.07.396569/EXPLAIN_PREDICATE.csv\n",
      "Processing table: EXPLAIN_STATEMENT\n",
      "Saved EXPLAIN_STATEMENT data to /home/db2inst1/db2-labs/explain/batch-queries/output/2025-02-24-19.55.07.396569/EXPLAIN_STATEMENT.csv\n",
      "Processing table: EXPLAIN_STREAM\n"
     ]
    },
    {
     "name": "stdout",
     "output_type": "stream",
     "text": [
      "Saved EXPLAIN_STREAM data to /home/db2inst1/db2-labs/explain/batch-queries/output/2025-02-24-19.55.07.396569/EXPLAIN_STREAM.csv\n"
     ]
    }
   ],
   "source": [
    "# Define the subdirectory for a specific explain_time output\n",
    "outputdir = os.path.join(top_level_dir, f\"{explain_time}\")\n",
    "os.makedirs(outputdir, exist_ok=True)  # Create the subdirectory if it doesn't exist\n",
    "\n",
    "# If the directory exists, delete its contents\n",
    "for filename in os.listdir(outputdir):\n",
    "    file_path = os.path.join(outputdir, filename)\n",
    "    if os.path.isfile(file_path) or os.path.islink(file_path):\n",
    "        os.unlink(file_path)  # Remove files and symlinks\n",
    "    elif os.path.isdir(file_path):\n",
    "        shutil.rmtree(file_path)  # Remove subdirectories\n",
    "\n",
    "# Define output file\n",
    "explain_output = \"explain.out\"\n",
    "\n",
    "db2exfmt_cmd = f'''db2exfmt -d \"{database_name}\" -w \"{explain_time}\" -n \"{source_name}\" -s \"{source_schema}\" -# 0 -o \"{outputdir}/{explain_output}\"'''\n",
    "print(db2exfmt_cmd)\n",
    "\n",
    "# Uncomment the following line to execute the command (if running in a shell environment)\n",
    "os.system(db2exfmt_cmd)\n",
    "\n",
    "# Load the dictionary from the JSON file\n",
    "with open(\"export_sql.json\", \"r\") as json_file:\n",
    "    export_sql_statements = json.load(json_file)\n",
    "\n",
    "print(\"SQL statements have been loaded from sql_statements.json\")\n",
    "\n",
    "# Loop through each table in the dictionary\n",
    "for table_name, query in export_sql_statements.items():\n",
    "    print(f\"Processing table: {table_name}\")\n",
    "\n",
    "    # Execute the dynamically generated SQL using %sql magic\n",
    "    df_result = %sql {query}\n",
    "\n",
    "    # Convert result to Pandas DataFrame\n",
    "    # df_result = df_result.DataFrame()\n",
    "\n",
    "    # Save to CSV without including the index in the \"explain\" directory\n",
    "    output_file_path = os.path.join(outputdir, f\"{table_name}.csv\")\n",
    "    df_result.to_csv(output_file_path, index=False)\n",
    "\n",
    "    print(f\"Saved {table_name} data to {output_file_path}\")"
   ]
  },
  {
   "cell_type": "code",
   "execution_count": 20,
   "id": "12fd9fee",
   "metadata": {
    "execution": {
     "iopub.execute_input": "2025-02-25T03:55:08.706927Z",
     "iopub.status.busy": "2025-02-25T03:55:08.706510Z",
     "iopub.status.idle": "2025-02-25T03:55:08.714645Z",
     "shell.execute_reply": "2025-02-25T03:55:08.713694Z"
    },
    "papermill": {
     "duration": 0.020325,
     "end_time": "2025-02-25T03:55:08.716552",
     "exception": false,
     "start_time": "2025-02-25T03:55:08.696227",
     "status": "completed"
    },
    "tags": []
   },
   "outputs": [
    {
     "name": "stdout",
     "output_type": "stream",
     "text": [
      "Connection closed.\n"
     ]
    }
   ],
   "source": [
    "%sql CONNECT RESET"
   ]
  }
 ],
 "metadata": {
  "kernelspec": {
   "display_name": ".venv",
   "language": "python",
   "name": "python3"
  },
  "language_info": {
   "codemirror_mode": {
    "name": "ipython",
    "version": 3
   },
   "file_extension": ".py",
   "mimetype": "text/x-python",
   "name": "python",
   "nbconvert_exporter": "python",
   "pygments_lexer": "ipython3",
   "version": "3.12.8"
  },
  "papermill": {
   "default_parameters": {},
   "duration": 17.677851,
   "end_time": "2025-02-25T03:55:09.349840",
   "environment_variables": {},
   "exception": null,
   "input_path": "single-query.ipynb",
   "output_path": "/home/db2inst1/db2-labs/explain/batch-queries/output_notebooks/query4.ipynb",
   "parameters": {
    "queryid": "query4",
    "sql_statement": "SELECT SR_ADDR_SK, SR_CDEMO_SK, SR_RETURN_AMT, SR_RETURN_AMT_INC_TAX, SR_RETURN_TIME_SK, SR_REVERSED_CHARGE, SR_STORE_CREDIT, SS_EXT_DISCOUNT_AMT, SS_SOLD_DATE_SK, SS_LIST_PRICE, SS_QUANTITY, SS_SALES_PRICE, SS_SOLD_TIME_SK, SS_WHOLESALE_COST FROM STORE_RETURNS JOIN STORE_SALES ON SR_ITEM_SK = SS_ITEM_SK AND SR_CUSTOMER_SK = SS_CUSTOMER_SK AND SS_TICKET_NUMBER = SR_TICKET_NUMBER"
   },
   "start_time": "2025-02-25T03:54:51.671989",
   "version": "2.6.0"
  }
 },
 "nbformat": 4,
 "nbformat_minor": 5
}