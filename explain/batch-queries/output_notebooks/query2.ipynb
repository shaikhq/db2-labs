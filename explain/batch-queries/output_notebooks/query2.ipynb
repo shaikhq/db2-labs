{
 "cells": [
  {
   "cell_type": "markdown",
   "id": "3318f42c",
   "metadata": {
    "papermill": {
     "duration": 0.011088,
     "end_time": "2025-02-25T03:54:19.570927",
     "exception": false,
     "start_time": "2025-02-25T03:54:19.559839",
     "status": "completed"
    },
    "tags": []
   },
   "source": [
    "# 📊 Automating the Collection of EXPLAIN Plans and Runtime Metrics in Db2 LUW\n",
    "This notebook automates the process of running a SQL query in Db2 and capturing its execution details using EXPLAIN tables and activity event monitors. The workflow includes:\n",
    "\n",
    "1. **Setup of Activity Event Monitor:** Configures an event monitor in Db2 to collect runtime metrics such as execution time and resource usage during query execution.\n",
    "2. **Creation of EXPLAIN Tables:** Sets up EXPLAIN tables in Db2 to store detailed execution plans for SQL queries.\n",
    "3. **Query Execution:** Runs a SQL query to gather execution metrics and analyze its performance.\n",
    "4. **EXPLAIN Plan Generation:** Captures the execution plan of the query to understand how Db2 will process the operation.\n",
    "5. **Exporting Data:** Exports the collected EXPLAIN and activity monitor data as CSV files for external analysis or reporting.\n",
    "\n",
    "For detailed setup instructions and guidance on running this notebook, refer to the [README.md](./README.md) file in the same directory.\n",
    "\n",
    "This notebook provides a fully automated approach for analyzing query performance and gathering runtime metrics, helping database administrators and developers optimize their queries effectively.\n"
   ]
  },
  {
   "cell_type": "code",
   "execution_count": 1,
   "id": "c374673e",
   "metadata": {
    "execution": {
     "iopub.execute_input": "2025-02-25T03:54:19.593671Z",
     "iopub.status.busy": "2025-02-25T03:54:19.593331Z",
     "iopub.status.idle": "2025-02-25T03:54:20.116107Z",
     "shell.execute_reply": "2025-02-25T03:54:20.114963Z"
    },
    "papermill": {
     "duration": 0.537525,
     "end_time": "2025-02-25T03:54:20.119062",
     "exception": false,
     "start_time": "2025-02-25T03:54:19.581537",
     "status": "completed"
    },
    "tags": []
   },
   "outputs": [],
   "source": [
    "import os\n",
    "from dotenv import dotenv_values\n",
    "import json\n",
    "import shutil\n",
    "import pandas as pd"
   ]
  },
  {
   "cell_type": "code",
   "execution_count": 2,
   "id": "6ee7f9ba",
   "metadata": {
    "execution": {
     "iopub.execute_input": "2025-02-25T03:54:20.138970Z",
     "iopub.status.busy": "2025-02-25T03:54:20.137510Z",
     "iopub.status.idle": "2025-02-25T03:54:20.143923Z",
     "shell.execute_reply": "2025-02-25T03:54:20.142678Z"
    },
    "papermill": {
     "duration": 0.019492,
     "end_time": "2025-02-25T03:54:20.146400",
     "exception": false,
     "start_time": "2025-02-25T03:54:20.126908",
     "status": "completed"
    },
    "tags": [
     "parameters"
    ]
   },
   "outputs": [],
   "source": [
    "# Parameters (These values will be overwritten when called by papermill)\n",
    "queryid = None\n",
    "sql_statement = None"
   ]
  },
  {
   "cell_type": "code",
   "execution_count": 3,
   "id": "2303f90b",
   "metadata": {
    "execution": {
     "iopub.execute_input": "2025-02-25T03:54:20.162338Z",
     "iopub.status.busy": "2025-02-25T03:54:20.161845Z",
     "iopub.status.idle": "2025-02-25T03:54:20.167240Z",
     "shell.execute_reply": "2025-02-25T03:54:20.166166Z"
    },
    "papermill": {
     "duration": 0.016235,
     "end_time": "2025-02-25T03:54:20.169562",
     "exception": false,
     "start_time": "2025-02-25T03:54:20.153327",
     "status": "completed"
    },
    "tags": [
     "injected-parameters"
    ]
   },
   "outputs": [],
   "source": [
    "# Parameters\n",
    "queryid = \"query2\"\n",
    "sql_statement = \"SELECT CR_RETURNING_ADDR_SK , CS_SALES_PRICE FROM CATALOG_RETURNS INNER JOIN CATALOG_SALES ON CS_ORDER_NUMBER = CR_ORDER_NUMBER AND CS_ITEM_SK = CR_ITEM_SK WHERE CS_NET_PAID <= +68 AND CR_REFUNDED_HDEMO_SK <= 939\"\n"
   ]
  },
  {
   "cell_type": "markdown",
   "id": "e0d66618",
   "metadata": {
    "papermill": {
     "duration": 0.005775,
     "end_time": "2025-02-25T03:54:20.179753",
     "exception": false,
     "start_time": "2025-02-25T03:54:20.173978",
     "status": "completed"
    },
    "tags": []
   },
   "source": [
    "Loading Db2 Magic Commands Notebook Extension"
   ]
  },
  {
   "cell_type": "code",
   "execution_count": 4,
   "id": "7915828d",
   "metadata": {
    "execution": {
     "iopub.execute_input": "2025-02-25T03:54:20.190387Z",
     "iopub.status.busy": "2025-02-25T03:54:20.189978Z",
     "iopub.status.idle": "2025-02-25T03:54:21.504181Z",
     "shell.execute_reply": "2025-02-25T03:54:21.502830Z"
    },
    "papermill": {
     "duration": 1.323377,
     "end_time": "2025-02-25T03:54:21.507264",
     "exception": false,
     "start_time": "2025-02-25T03:54:20.183887",
     "status": "completed"
    },
    "tags": []
   },
   "outputs": [
    {
     "name": "stderr",
     "output_type": "stream",
     "text": [
      "<>:1708: SyntaxWarning: invalid escape sequence '\\s'\n",
      "<>:2305: SyntaxWarning: invalid escape sequence '\\?'\n",
      "/tmp/ipykernel_432186/2299624180.py:1708: SyntaxWarning: invalid escape sequence '\\s'\n",
      "  firstCommand = \"(?:^\\s*)([a-zA-Z]+)(?:\\s+.*|$)\"\n",
      "/tmp/ipykernel_432186/2299624180.py:2305: SyntaxWarning: invalid escape sequence '\\?'\n",
      "  pattern = \"\\?\\*[0-9]+\"\n"
     ]
    },
    {
     "name": "stdout",
     "output_type": "stream",
     "text": [
      "Db2 Extensions Loaded. Version: 2024-09-16\n"
     ]
    }
   ],
   "source": [
    "# Enable Db2 Magic Commands Extensions for Jupyter Notebook\n",
    "if not os.path.isfile('db2.ipynb'):\n",
    "    os.system('wget https://raw.githubusercontent.com/IBM/db2-jupyter/master/db2.ipynb')\n",
    "%run db2.ipynb"
   ]
  },
  {
   "cell_type": "code",
   "execution_count": 5,
   "id": "d8a1d456",
   "metadata": {
    "execution": {
     "iopub.execute_input": "2025-02-25T03:54:21.532630Z",
     "iopub.status.busy": "2025-02-25T03:54:21.532151Z",
     "iopub.status.idle": "2025-02-25T03:54:21.539098Z",
     "shell.execute_reply": "2025-02-25T03:54:21.537295Z"
    },
    "papermill": {
     "duration": 0.028518,
     "end_time": "2025-02-25T03:54:21.547818",
     "exception": false,
     "start_time": "2025-02-25T03:54:21.519300",
     "status": "completed"
    },
    "tags": []
   },
   "outputs": [],
   "source": [
    "import os\n",
    "\n",
    "# Define the top-level output directory\n",
    "top_level_dir = os.path.join(os.getcwd(), \"output\")\n",
    "\n",
    "# Create the top-level directory only if it doesn't exist\n",
    "os.makedirs(top_level_dir, exist_ok=True)"
   ]
  },
  {
   "cell_type": "markdown",
   "id": "dec4d43d",
   "metadata": {
    "papermill": {
     "duration": 0.005526,
     "end_time": "2025-02-25T03:54:21.564453",
     "exception": false,
     "start_time": "2025-02-25T03:54:21.558927",
     "status": "completed"
    },
    "tags": []
   },
   "source": [
    "Connect to Db2"
   ]
  },
  {
   "cell_type": "code",
   "execution_count": 6,
   "id": "5e724403",
   "metadata": {
    "execution": {
     "iopub.execute_input": "2025-02-25T03:54:21.579272Z",
     "iopub.status.busy": "2025-02-25T03:54:21.578890Z",
     "iopub.status.idle": "2025-02-25T03:54:21.664856Z",
     "shell.execute_reply": "2025-02-25T03:54:21.663589Z"
    },
    "papermill": {
     "duration": 0.09517,
     "end_time": "2025-02-25T03:54:21.667120",
     "exception": false,
     "start_time": "2025-02-25T03:54:21.571950",
     "status": "completed"
    },
    "tags": []
   },
   "outputs": [
    {
     "name": "stdout",
     "output_type": "stream",
     "text": [
      "Connection successful. tpcds @ localhost \n"
     ]
    }
   ],
   "source": [
    "db2creds = dotenv_values('.env')\n",
    "%sql CONNECT CREDENTIALS db2creds"
   ]
  },
  {
   "cell_type": "code",
   "execution_count": 7,
   "id": "564ca52a",
   "metadata": {
    "execution": {
     "iopub.execute_input": "2025-02-25T03:54:21.685703Z",
     "iopub.status.busy": "2025-02-25T03:54:21.685349Z",
     "iopub.status.idle": "2025-02-25T03:54:21.701097Z",
     "shell.execute_reply": "2025-02-25T03:54:21.699860Z"
    },
    "papermill": {
     "duration": 0.028787,
     "end_time": "2025-02-25T03:54:21.703488",
     "exception": false,
     "start_time": "2025-02-25T03:54:21.674701",
     "status": "completed"
    },
    "tags": []
   },
   "outputs": [
    {
     "name": "stdout",
     "output_type": "stream",
     "text": [
      "Command completed.\n"
     ]
    }
   ],
   "source": [
    "# Activate event monitor\n",
    "%sql SET EVENT MONITOR ACTEVMON STATE 1;"
   ]
  },
  {
   "cell_type": "code",
   "execution_count": 8,
   "id": "a6421dc4",
   "metadata": {
    "execution": {
     "iopub.execute_input": "2025-02-25T03:54:21.718361Z",
     "iopub.status.busy": "2025-02-25T03:54:21.717497Z",
     "iopub.status.idle": "2025-02-25T03:54:21.732638Z",
     "shell.execute_reply": "2025-02-25T03:54:21.730875Z"
    },
    "papermill": {
     "duration": 0.025941,
     "end_time": "2025-02-25T03:54:21.735137",
     "exception": false,
     "start_time": "2025-02-25T03:54:21.709196",
     "status": "completed"
    },
    "tags": []
   },
   "outputs": [
    {
     "data": {
      "text/plain": [
       "[None, None, None, 'query2', None]"
      ]
     },
     "execution_count": 8,
     "metadata": {},
     "output_type": "execute_result"
    }
   ],
   "source": [
    "# Set client info\n",
    "%sql CALL WLM_SET_CLIENT_INFO(NULL,NULL,NULL,:queryid,NULL);"
   ]
  },
  {
   "cell_type": "code",
   "execution_count": 9,
   "id": "fbede33c",
   "metadata": {
    "execution": {
     "iopub.execute_input": "2025-02-25T03:54:21.750071Z",
     "iopub.status.busy": "2025-02-25T03:54:21.748885Z",
     "iopub.status.idle": "2025-02-25T03:54:30.337147Z",
     "shell.execute_reply": "2025-02-25T03:54:30.335109Z"
    },
    "papermill": {
     "duration": 8.5993,
     "end_time": "2025-02-25T03:54:30.340328",
     "exception": false,
     "start_time": "2025-02-25T03:54:21.741028",
     "status": "completed"
    },
    "tags": []
   },
   "outputs": [
    {
     "data": {
      "text/html": [
       "<div>\n",
       "<style scoped>\n",
       "    .dataframe tbody tr th:only-of-type {\n",
       "        vertical-align: middle;\n",
       "    }\n",
       "\n",
       "    .dataframe tbody tr th {\n",
       "        vertical-align: top;\n",
       "    }\n",
       "\n",
       "    .dataframe thead th {\n",
       "        text-align: right;\n",
       "    }\n",
       "</style>\n",
       "<table border=\"1\" class=\"dataframe\">\n",
       "  <thead>\n",
       "    <tr style=\"text-align: right;\">\n",
       "      <th></th>\n",
       "      <th>CR_RETURNING_ADDR_SK</th>\n",
       "      <th>CS_SALES_PRICE</th>\n",
       "    </tr>\n",
       "  </thead>\n",
       "  <tbody>\n",
       "    <tr>\n",
       "      <th>0</th>\n",
       "      <td>341311</td>\n",
       "      <td>0.66</td>\n",
       "    </tr>\n",
       "    <tr>\n",
       "      <th>1</th>\n",
       "      <td>954770</td>\n",
       "      <td>20.03</td>\n",
       "    </tr>\n",
       "    <tr>\n",
       "      <th>2</th>\n",
       "      <td>868304</td>\n",
       "      <td>10.19</td>\n",
       "    </tr>\n",
       "    <tr>\n",
       "      <th>3</th>\n",
       "      <td>739706</td>\n",
       "      <td>3.87</td>\n",
       "    </tr>\n",
       "    <tr>\n",
       "      <th>4</th>\n",
       "      <td>623779</td>\n",
       "      <td>0.35</td>\n",
       "    </tr>\n",
       "    <tr>\n",
       "      <th>...</th>\n",
       "      <td>...</td>\n",
       "      <td>...</td>\n",
       "    </tr>\n",
       "    <tr>\n",
       "      <th>174436</th>\n",
       "      <td>284973</td>\n",
       "      <td>3.01</td>\n",
       "    </tr>\n",
       "    <tr>\n",
       "      <th>174437</th>\n",
       "      <td>395417</td>\n",
       "      <td>3.21</td>\n",
       "    </tr>\n",
       "    <tr>\n",
       "      <th>174438</th>\n",
       "      <td>231645</td>\n",
       "      <td>1.54</td>\n",
       "    </tr>\n",
       "    <tr>\n",
       "      <th>174439</th>\n",
       "      <td>463753</td>\n",
       "      <td>1.72</td>\n",
       "    </tr>\n",
       "    <tr>\n",
       "      <th>174440</th>\n",
       "      <td>404779</td>\n",
       "      <td>67.74</td>\n",
       "    </tr>\n",
       "  </tbody>\n",
       "</table>\n",
       "<p>174441 rows × 2 columns</p>\n",
       "</div>"
      ],
      "text/plain": [
       "        CR_RETURNING_ADDR_SK  CS_SALES_PRICE\n",
       "0                     341311            0.66\n",
       "1                     954770           20.03\n",
       "2                     868304           10.19\n",
       "3                     739706            3.87\n",
       "4                     623779            0.35\n",
       "...                      ...             ...\n",
       "174436                284973            3.01\n",
       "174437                395417            3.21\n",
       "174438                231645            1.54\n",
       "174439                463753            1.72\n",
       "174440                404779           67.74\n",
       "\n",
       "[174441 rows x 2 columns]"
      ]
     },
     "execution_count": 9,
     "metadata": {},
     "output_type": "execute_result"
    }
   ],
   "source": [
    "%sql {sql_statement}"
   ]
  },
  {
   "cell_type": "code",
   "execution_count": 10,
   "id": "27a51baf",
   "metadata": {
    "execution": {
     "iopub.execute_input": "2025-02-25T03:54:30.360248Z",
     "iopub.status.busy": "2025-02-25T03:54:30.359902Z",
     "iopub.status.idle": "2025-02-25T03:54:30.370959Z",
     "shell.execute_reply": "2025-02-25T03:54:30.369309Z"
    },
    "papermill": {
     "duration": 0.026592,
     "end_time": "2025-02-25T03:54:30.374195",
     "exception": false,
     "start_time": "2025-02-25T03:54:30.347603",
     "status": "completed"
    },
    "tags": []
   },
   "outputs": [
    {
     "name": "stdout",
     "output_type": "stream",
     "text": [
      "Command completed.\n"
     ]
    }
   ],
   "source": [
    "# Deactivate the event monitor to ensure its data is written to the activity tables\n",
    "%sql SET EVENT MONITOR ACTEVMON STATE 0"
   ]
  },
  {
   "cell_type": "code",
   "execution_count": 11,
   "id": "7816f29b",
   "metadata": {
    "execution": {
     "iopub.execute_input": "2025-02-25T03:54:30.391564Z",
     "iopub.status.busy": "2025-02-25T03:54:30.391251Z",
     "iopub.status.idle": "2025-02-25T03:54:30.408034Z",
     "shell.execute_reply": "2025-02-25T03:54:30.406483Z"
    },
    "papermill": {
     "duration": 0.028904,
     "end_time": "2025-02-25T03:54:30.411202",
     "exception": false,
     "start_time": "2025-02-25T03:54:30.382298",
     "status": "completed"
    },
    "tags": []
   },
   "outputs": [],
   "source": [
    "result = %sql SELECT a.APPL_ID, a.UOW_ID, a.ACTIVITY_ID \\\n",
    "    FROM ACTIVITY_ACTEVMON a \\\n",
    "    WHERE a.ACTIVITY_TYPE = 'READ_DML' AND a.TPMON_ACC_STR = :queryid"
   ]
  },
  {
   "cell_type": "code",
   "execution_count": 12,
   "id": "8a85a9e8",
   "metadata": {
    "execution": {
     "iopub.execute_input": "2025-02-25T03:54:30.431092Z",
     "iopub.status.busy": "2025-02-25T03:54:30.430541Z",
     "iopub.status.idle": "2025-02-25T03:54:30.439294Z",
     "shell.execute_reply": "2025-02-25T03:54:30.437853Z"
    },
    "papermill": {
     "duration": 0.020962,
     "end_time": "2025-02-25T03:54:30.441357",
     "exception": false,
     "start_time": "2025-02-25T03:54:30.420395",
     "status": "completed"
    },
    "tags": []
   },
   "outputs": [],
   "source": [
    "appl_id = result['APPL_ID'].iloc[0]\n",
    "uow_id = result.at[0, 'UOW_ID'].item()\n",
    "activity_id = result.at[0, 'ACTIVITY_ID'].item()\n",
    "event_monitor = 'ACTEVMON'\n",
    "schema = 'DB2INST1'"
   ]
  },
  {
   "cell_type": "code",
   "execution_count": 13,
   "id": "d00c8515",
   "metadata": {
    "execution": {
     "iopub.execute_input": "2025-02-25T03:54:30.472181Z",
     "iopub.status.busy": "2025-02-25T03:54:30.471664Z",
     "iopub.status.idle": "2025-02-25T03:54:30.481472Z",
     "shell.execute_reply": "2025-02-25T03:54:30.479970Z"
    },
    "papermill": {
     "duration": 0.030323,
     "end_time": "2025-02-25T03:54:30.483773",
     "exception": false,
     "start_time": "2025-02-25T03:54:30.453450",
     "status": "completed"
    },
    "tags": []
   },
   "outputs": [
    {
     "name": "stdout",
     "output_type": "stream",
     "text": [
      "                        APPL_ID  UOW_ID  ACTIVITY_ID\n",
      "0  127.0.0.1.48914.250225035421       5            1\n"
     ]
    }
   ],
   "source": [
    "\n",
    "print(result)"
   ]
  },
  {
   "cell_type": "code",
   "execution_count": 14,
   "id": "d3141de9",
   "metadata": {
    "execution": {
     "iopub.execute_input": "2025-02-25T03:54:30.497424Z",
     "iopub.status.busy": "2025-02-25T03:54:30.495967Z",
     "iopub.status.idle": "2025-02-25T03:54:30.504828Z",
     "shell.execute_reply": "2025-02-25T03:54:30.503416Z"
    },
    "papermill": {
     "duration": 0.018213,
     "end_time": "2025-02-25T03:54:30.507377",
     "exception": false,
     "start_time": "2025-02-25T03:54:30.489164",
     "status": "completed"
    },
    "tags": []
   },
   "outputs": [
    {
     "name": "stdout",
     "output_type": "stream",
     "text": [
      "appl_id:  127.0.0.1.48914.250225035421\n",
      "uow_id:  5\n",
      "activity_id:  1\n"
     ]
    }
   ],
   "source": [
    "print('appl_id: ', appl_id)\n",
    "print('uow_id: ', uow_id)\n",
    "print('activity_id: ', activity_id)"
   ]
  },
  {
   "cell_type": "code",
   "execution_count": 15,
   "id": "b5372890",
   "metadata": {
    "execution": {
     "iopub.execute_input": "2025-02-25T03:54:30.531837Z",
     "iopub.status.busy": "2025-02-25T03:54:30.531377Z",
     "iopub.status.idle": "2025-02-25T03:54:31.688937Z",
     "shell.execute_reply": "2025-02-25T03:54:31.687648Z"
    },
    "papermill": {
     "duration": 1.172822,
     "end_time": "2025-02-25T03:54:31.691274",
     "exception": false,
     "start_time": "2025-02-25T03:54:30.518452",
     "status": "completed"
    },
    "tags": []
   },
   "outputs": [],
   "source": [
    "%%capture explain_output\n",
    "sql = f'''\"CALL EXPLAIN_FROM_ACTIVITY('{appl_id}', '{uow_id}', '{activity_id}', '{event_monitor}', '{schema}', null, null, null, null, null)\"'''\n",
    "_ = ! db2 \"connect to TPCDS\" \n",
    "\n",
    "explain = %system db2 {sql}"
   ]
  },
  {
   "cell_type": "code",
   "execution_count": 16,
   "id": "8273d394",
   "metadata": {
    "execution": {
     "iopub.execute_input": "2025-02-25T03:54:31.708487Z",
     "iopub.status.busy": "2025-02-25T03:54:31.708131Z",
     "iopub.status.idle": "2025-02-25T03:54:31.716567Z",
     "shell.execute_reply": "2025-02-25T03:54:31.715546Z"
    },
    "papermill": {
     "duration": 0.019531,
     "end_time": "2025-02-25T03:54:31.718478",
     "exception": false,
     "start_time": "2025-02-25T03:54:31.698947",
     "status": "completed"
    },
    "tags": []
   },
   "outputs": [
    {
     "name": "stdout",
     "output_type": "stream",
     "text": [
      "EXPLAIN_TIME: 2025-02-24-19.54.31.672438\n",
      "SOURCE_NAME: SYSSH200\n",
      "SOURCE_SCHEMA: NULLID\n"
     ]
    }
   ],
   "source": [
    "# Initialize variables\n",
    "explain_time = None\n",
    "source_name = None\n",
    "source_schema = None\n",
    "\n",
    "# Iterate through the list\n",
    "for i in range(len(explain)):\n",
    "    if \"EXPLAIN_TIME\" in explain[i]:\n",
    "        explain_time = explain[i + 1].split(\":\")[-1].strip()\n",
    "    elif \"SOURCE_NAME\" in explain[i]:\n",
    "        source_name = explain[i + 1].split(\":\")[-1].strip()\n",
    "    elif \"SOURCE_SCHEMA\" in explain[i]:\n",
    "        source_schema = explain[i + 1].split(\":\")[-1].strip()\n",
    "\n",
    "# Print extracted values\n",
    "print(\"EXPLAIN_TIME:\", explain_time)\n",
    "print(\"SOURCE_NAME:\", source_name)\n",
    "print(\"SOURCE_SCHEMA:\", source_schema)"
   ]
  },
  {
   "cell_type": "code",
   "execution_count": 17,
   "id": "932e1970",
   "metadata": {
    "execution": {
     "iopub.execute_input": "2025-02-25T03:54:31.735258Z",
     "iopub.status.busy": "2025-02-25T03:54:31.734880Z",
     "iopub.status.idle": "2025-02-25T03:54:31.741216Z",
     "shell.execute_reply": "2025-02-25T03:54:31.740072Z"
    },
    "papermill": {
     "duration": 0.018834,
     "end_time": "2025-02-25T03:54:31.743776",
     "exception": false,
     "start_time": "2025-02-25T03:54:31.724942",
     "status": "completed"
    },
    "tags": []
   },
   "outputs": [
    {
     "data": {
      "text/plain": [
       "'2025-02-24-19.54.31.672438'"
      ]
     },
     "execution_count": 17,
     "metadata": {},
     "output_type": "execute_result"
    }
   ],
   "source": [
    "explain_time"
   ]
  },
  {
   "cell_type": "code",
   "execution_count": 18,
   "id": "cfe392ba",
   "metadata": {
    "execution": {
     "iopub.execute_input": "2025-02-25T03:54:31.769669Z",
     "iopub.status.busy": "2025-02-25T03:54:31.769313Z",
     "iopub.status.idle": "2025-02-25T03:54:31.779068Z",
     "shell.execute_reply": "2025-02-25T03:54:31.777666Z"
    },
    "papermill": {
     "duration": 0.026435,
     "end_time": "2025-02-25T03:54:31.781854",
     "exception": false,
     "start_time": "2025-02-25T03:54:31.755419",
     "status": "completed"
    },
    "tags": []
   },
   "outputs": [
    {
     "name": "stdout",
     "output_type": "stream",
     "text": [
      "Database Name: tpcds\n"
     ]
    }
   ],
   "source": [
    "from dotenv import dotenv_values\n",
    "\n",
    "# Load environment variables from the .env file\n",
    "db2creds = dotenv_values('.env')\n",
    "\n",
    "# Extract the database name\n",
    "database_name = db2creds.get(\"database\")  # Use .get() to avoid KeyError if the key is missing\n",
    "\n",
    "# Print the extracted database name\n",
    "print(\"Database Name:\", database_name)"
   ]
  },
  {
   "cell_type": "markdown",
   "id": "4546be04",
   "metadata": {
    "papermill": {
     "duration": 0.007309,
     "end_time": "2025-02-25T03:54:31.795255",
     "exception": false,
     "start_time": "2025-02-25T03:54:31.787946",
     "status": "completed"
    },
    "tags": []
   },
   "source": [
    "# Generate Explain and Export the Explain output"
   ]
  },
  {
   "cell_type": "code",
   "execution_count": 19,
   "id": "cbcfdbbe",
   "metadata": {
    "execution": {
     "iopub.execute_input": "2025-02-25T03:54:31.818334Z",
     "iopub.status.busy": "2025-02-25T03:54:31.817819Z",
     "iopub.status.idle": "2025-02-25T03:54:32.822398Z",
     "shell.execute_reply": "2025-02-25T03:54:32.821093Z"
    },
    "papermill": {
     "duration": 1.020122,
     "end_time": "2025-02-25T03:54:32.825086",
     "exception": false,
     "start_time": "2025-02-25T03:54:31.804964",
     "status": "completed"
    },
    "tags": []
   },
   "outputs": [
    {
     "name": "stdout",
     "output_type": "stream",
     "text": [
      "db2exfmt -d \"tpcds\" -w \"2025-02-24-19.54.31.672438\" -n \"SYSSH200\" -s \"NULLID\" -# 0 -o \"/home/db2inst1/db2-labs/explain/batch-queries/output/2025-02-24-19.54.31.672438/explain.out\"\n"
     ]
    },
    {
     "name": "stderr",
     "output_type": "stream",
     "text": [
      "DB2 Universal Database Version 11.5, 5622-044 (c) Copyright IBM Corp. 1991, 2019\n",
      "Licensed Material - Program Property of IBM\n",
      "IBM DATABASE 2 Explain Table Format Tool\n",
      "\n",
      "Connect to Database Successful.\n"
     ]
    },
    {
     "name": "stderr",
     "output_type": "stream",
     "text": [
      "Output is in /home/db2inst1/db2-labs/explain/batch-queries/output/2025-02-24-19.54.31.672438/explain.out.\n",
      "Executing Connect Reset -- Connect Reset was Successful.\n"
     ]
    },
    {
     "name": "stdout",
     "output_type": "stream",
     "text": [
      "Connecting to the Database.\n",
      "SQL statements have been loaded from sql_statements.json\n",
      "Processing table: ACTIVITYSTMT_ACTEVMON\n",
      "Saved ACTIVITYSTMT_ACTEVMON data to /home/db2inst1/db2-labs/explain/batch-queries/output/2025-02-24-19.54.31.672438/ACTIVITYSTMT_ACTEVMON.csv\n",
      "Processing table: ACTIVITY_ACTEVMON\n"
     ]
    },
    {
     "name": "stdout",
     "output_type": "stream",
     "text": [
      "Saved ACTIVITY_ACTEVMON data to /home/db2inst1/db2-labs/explain/batch-queries/output/2025-02-24-19.54.31.672438/ACTIVITY_ACTEVMON.csv\n",
      "Processing table: EXPLAIN_ACTUALS\n",
      "Saved EXPLAIN_ACTUALS data to /home/db2inst1/db2-labs/explain/batch-queries/output/2025-02-24-19.54.31.672438/EXPLAIN_ACTUALS.csv\n",
      "Processing table: EXPLAIN_INSTANCE\n",
      "Saved EXPLAIN_INSTANCE data to /home/db2inst1/db2-labs/explain/batch-queries/output/2025-02-24-19.54.31.672438/EXPLAIN_INSTANCE.csv\n",
      "Processing table: EXPLAIN_OBJECT\n",
      "Saved EXPLAIN_OBJECT data to /home/db2inst1/db2-labs/explain/batch-queries/output/2025-02-24-19.54.31.672438/EXPLAIN_OBJECT.csv\n",
      "Processing table: EXPLAIN_OPERATOR\n",
      "Saved EXPLAIN_OPERATOR data to /home/db2inst1/db2-labs/explain/batch-queries/output/2025-02-24-19.54.31.672438/EXPLAIN_OPERATOR.csv\n",
      "Processing table: EXPLAIN_PREDICATE\n",
      "Saved EXPLAIN_PREDICATE data to /home/db2inst1/db2-labs/explain/batch-queries/output/2025-02-24-19.54.31.672438/EXPLAIN_PREDICATE.csv\n",
      "Processing table: EXPLAIN_STATEMENT\n",
      "Saved EXPLAIN_STATEMENT data to /home/db2inst1/db2-labs/explain/batch-queries/output/2025-02-24-19.54.31.672438/EXPLAIN_STATEMENT.csv\n",
      "Processing table: EXPLAIN_STREAM\n",
      "Saved EXPLAIN_STREAM data to /home/db2inst1/db2-labs/explain/batch-queries/output/2025-02-24-19.54.31.672438/EXPLAIN_STREAM.csv\n"
     ]
    }
   ],
   "source": [
    "# Define the subdirectory for a specific explain_time output\n",
    "outputdir = os.path.join(top_level_dir, f\"{explain_time}\")\n",
    "os.makedirs(outputdir, exist_ok=True)  # Create the subdirectory if it doesn't exist\n",
    "\n",
    "# If the directory exists, delete its contents\n",
    "for filename in os.listdir(outputdir):\n",
    "    file_path = os.path.join(outputdir, filename)\n",
    "    if os.path.isfile(file_path) or os.path.islink(file_path):\n",
    "        os.unlink(file_path)  # Remove files and symlinks\n",
    "    elif os.path.isdir(file_path):\n",
    "        shutil.rmtree(file_path)  # Remove subdirectories\n",
    "\n",
    "# Define output file\n",
    "explain_output = \"explain.out\"\n",
    "\n",
    "db2exfmt_cmd = f'''db2exfmt -d \"{database_name}\" -w \"{explain_time}\" -n \"{source_name}\" -s \"{source_schema}\" -# 0 -o \"{outputdir}/{explain_output}\"'''\n",
    "print(db2exfmt_cmd)\n",
    "\n",
    "# Uncomment the following line to execute the command (if running in a shell environment)\n",
    "os.system(db2exfmt_cmd)\n",
    "\n",
    "# Load the dictionary from the JSON file\n",
    "with open(\"export_sql.json\", \"r\") as json_file:\n",
    "    export_sql_statements = json.load(json_file)\n",
    "\n",
    "print(\"SQL statements have been loaded from sql_statements.json\")\n",
    "\n",
    "# Loop through each table in the dictionary\n",
    "for table_name, query in export_sql_statements.items():\n",
    "    print(f\"Processing table: {table_name}\")\n",
    "\n",
    "    # Execute the dynamically generated SQL using %sql magic\n",
    "    df_result = %sql {query}\n",
    "\n",
    "    # Convert result to Pandas DataFrame\n",
    "    # df_result = df_result.DataFrame()\n",
    "\n",
    "    # Save to CSV without including the index in the \"explain\" directory\n",
    "    output_file_path = os.path.join(outputdir, f\"{table_name}.csv\")\n",
    "    df_result.to_csv(output_file_path, index=False)\n",
    "\n",
    "    print(f\"Saved {table_name} data to {output_file_path}\")"
   ]
  },
  {
   "cell_type": "code",
   "execution_count": 20,
   "id": "df047006",
   "metadata": {
    "execution": {
     "iopub.execute_input": "2025-02-25T03:54:32.861556Z",
     "iopub.status.busy": "2025-02-25T03:54:32.860473Z",
     "iopub.status.idle": "2025-02-25T03:54:32.871302Z",
     "shell.execute_reply": "2025-02-25T03:54:32.870005Z"
    },
    "papermill": {
     "duration": 0.033347,
     "end_time": "2025-02-25T03:54:32.873423",
     "exception": false,
     "start_time": "2025-02-25T03:54:32.840076",
     "status": "completed"
    },
    "tags": []
   },
   "outputs": [
    {
     "name": "stdout",
     "output_type": "stream",
     "text": [
      "Connection closed.\n"
     ]
    }
   ],
   "source": [
    "%sql CONNECT RESET"
   ]
  }
 ],
 "metadata": {
  "kernelspec": {
   "display_name": ".venv",
   "language": "python",
   "name": "python3"
  },
  "language_info": {
   "codemirror_mode": {
    "name": "ipython",
    "version": 3
   },
   "file_extension": ".py",
   "mimetype": "text/x-python",
   "name": "python",
   "nbconvert_exporter": "python",
   "pygments_lexer": "ipython3",
   "version": "3.12.8"
  },
  "papermill": {
   "default_parameters": {},
   "duration": 15.0221,
   "end_time": "2025-02-25T03:54:33.504665",
   "environment_variables": {},
   "exception": null,
   "input_path": "single-query.ipynb",
   "output_path": "/home/db2inst1/db2-labs/explain/batch-queries/output_notebooks/query2.ipynb",
   "parameters": {
    "queryid": "query2",
    "sql_statement": "SELECT CR_RETURNING_ADDR_SK , CS_SALES_PRICE FROM CATALOG_RETURNS INNER JOIN CATALOG_SALES ON CS_ORDER_NUMBER = CR_ORDER_NUMBER AND CS_ITEM_SK = CR_ITEM_SK WHERE CS_NET_PAID <= +68 AND CR_REFUNDED_HDEMO_SK <= 939"
   },
   "start_time": "2025-02-25T03:54:18.482565",
   "version": "2.6.0"
  }
 },
 "nbformat": 4,
 "nbformat_minor": 5
}