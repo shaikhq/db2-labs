{
 "cells": [
  {
   "cell_type": "markdown",
   "id": "e24f465b",
   "metadata": {
    "papermill": {
     "duration": 0.005044,
     "end_time": "2025-02-25T03:54:06.078724",
     "exception": false,
     "start_time": "2025-02-25T03:54:06.073680",
     "status": "completed"
    },
    "tags": []
   },
   "source": [
    "# 📊 Automating the Collection of EXPLAIN Plans and Runtime Metrics in Db2 LUW\n",
    "This notebook automates the process of running a SQL query in Db2 and capturing its execution details using EXPLAIN tables and activity event monitors. The workflow includes:\n",
    "\n",
    "1. **Setup of Activity Event Monitor:** Configures an event monitor in Db2 to collect runtime metrics such as execution time and resource usage during query execution.\n",
    "2. **Creation of EXPLAIN Tables:** Sets up EXPLAIN tables in Db2 to store detailed execution plans for SQL queries.\n",
    "3. **Query Execution:** Runs a SQL query to gather execution metrics and analyze its performance.\n",
    "4. **EXPLAIN Plan Generation:** Captures the execution plan of the query to understand how Db2 will process the operation.\n",
    "5. **Exporting Data:** Exports the collected EXPLAIN and activity monitor data as CSV files for external analysis or reporting.\n",
    "\n",
    "For detailed setup instructions and guidance on running this notebook, refer to the [README.md](./README.md) file in the same directory.\n",
    "\n",
    "This notebook provides a fully automated approach for analyzing query performance and gathering runtime metrics, helping database administrators and developers optimize their queries effectively.\n"
   ]
  },
  {
   "cell_type": "code",
   "execution_count": 1,
   "id": "702d8040",
   "metadata": {
    "execution": {
     "iopub.execute_input": "2025-02-25T03:54:06.094493Z",
     "iopub.status.busy": "2025-02-25T03:54:06.093385Z",
     "iopub.status.idle": "2025-02-25T03:54:06.643284Z",
     "shell.execute_reply": "2025-02-25T03:54:06.641984Z"
    },
    "papermill": {
     "duration": 0.560245,
     "end_time": "2025-02-25T03:54:06.645749",
     "exception": false,
     "start_time": "2025-02-25T03:54:06.085504",
     "status": "completed"
    },
    "tags": []
   },
   "outputs": [],
   "source": [
    "import os\n",
    "from dotenv import dotenv_values\n",
    "import json\n",
    "import shutil\n",
    "import pandas as pd"
   ]
  },
  {
   "cell_type": "code",
   "execution_count": 2,
   "id": "7afc637b",
   "metadata": {
    "execution": {
     "iopub.execute_input": "2025-02-25T03:54:06.663886Z",
     "iopub.status.busy": "2025-02-25T03:54:06.663281Z",
     "iopub.status.idle": "2025-02-25T03:54:06.668508Z",
     "shell.execute_reply": "2025-02-25T03:54:06.667425Z"
    },
    "papermill": {
     "duration": 0.015966,
     "end_time": "2025-02-25T03:54:06.670496",
     "exception": false,
     "start_time": "2025-02-25T03:54:06.654530",
     "status": "completed"
    },
    "tags": [
     "parameters"
    ]
   },
   "outputs": [],
   "source": [
    "# Parameters (These values will be overwritten when called by papermill)\n",
    "queryid = None\n",
    "sql_statement = None"
   ]
  },
  {
   "cell_type": "code",
   "execution_count": 3,
   "id": "2bb99edd",
   "metadata": {
    "execution": {
     "iopub.execute_input": "2025-02-25T03:54:06.681338Z",
     "iopub.status.busy": "2025-02-25T03:54:06.680385Z",
     "iopub.status.idle": "2025-02-25T03:54:06.685891Z",
     "shell.execute_reply": "2025-02-25T03:54:06.684537Z"
    },
    "papermill": {
     "duration": 0.013114,
     "end_time": "2025-02-25T03:54:06.688276",
     "exception": false,
     "start_time": "2025-02-25T03:54:06.675162",
     "status": "completed"
    },
    "tags": [
     "injected-parameters"
    ]
   },
   "outputs": [],
   "source": [
    "# Parameters\n",
    "queryid = \"query1\"\n",
    "sql_statement = \"SELECT SS_WHOLESALE_COST , SR_NET_LOSS FROM STORE_SALES INNER JOIN STORE_RETURNS ON SR_TICKET_NUMBER = SS_TICKET_NUMBER AND SR_ITEM_SK = SS_ITEM_SK WHERE SS_STORE_SK = 2 AND SR_RETURNED_DATE_SK = 2451680\"\n"
   ]
  },
  {
   "cell_type": "markdown",
   "id": "bd5900f3",
   "metadata": {
    "papermill": {
     "duration": 0.005149,
     "end_time": "2025-02-25T03:54:06.700315",
     "exception": false,
     "start_time": "2025-02-25T03:54:06.695166",
     "status": "completed"
    },
    "tags": []
   },
   "source": [
    "Loading Db2 Magic Commands Notebook Extension"
   ]
  },
  {
   "cell_type": "code",
   "execution_count": 4,
   "id": "19e416b0",
   "metadata": {
    "execution": {
     "iopub.execute_input": "2025-02-25T03:54:06.713477Z",
     "iopub.status.busy": "2025-02-25T03:54:06.712582Z",
     "iopub.status.idle": "2025-02-25T03:54:07.945842Z",
     "shell.execute_reply": "2025-02-25T03:54:07.944822Z"
    },
    "papermill": {
     "duration": 1.242963,
     "end_time": "2025-02-25T03:54:07.948300",
     "exception": false,
     "start_time": "2025-02-25T03:54:06.705337",
     "status": "completed"
    },
    "tags": []
   },
   "outputs": [
    {
     "name": "stderr",
     "output_type": "stream",
     "text": [
      "<>:1708: SyntaxWarning: invalid escape sequence '\\s'\n",
      "<>:2305: SyntaxWarning: invalid escape sequence '\\?'\n",
      "/tmp/ipykernel_432137/2299624180.py:1708: SyntaxWarning: invalid escape sequence '\\s'\n",
      "  firstCommand = \"(?:^\\s*)([a-zA-Z]+)(?:\\s+.*|$)\"\n",
      "/tmp/ipykernel_432137/2299624180.py:2305: SyntaxWarning: invalid escape sequence '\\?'\n",
      "  pattern = \"\\?\\*[0-9]+\"\n"
     ]
    },
    {
     "name": "stdout",
     "output_type": "stream",
     "text": [
      "Db2 Extensions Loaded. Version: 2024-09-16\n"
     ]
    }
   ],
   "source": [
    "# Enable Db2 Magic Commands Extensions for Jupyter Notebook\n",
    "if not os.path.isfile('db2.ipynb'):\n",
    "    os.system('wget https://raw.githubusercontent.com/IBM/db2-jupyter/master/db2.ipynb')\n",
    "%run db2.ipynb"
   ]
  },
  {
   "cell_type": "code",
   "execution_count": 5,
   "id": "9400bf75",
   "metadata": {
    "execution": {
     "iopub.execute_input": "2025-02-25T03:54:07.973893Z",
     "iopub.status.busy": "2025-02-25T03:54:07.972521Z",
     "iopub.status.idle": "2025-02-25T03:54:07.979145Z",
     "shell.execute_reply": "2025-02-25T03:54:07.977865Z"
    },
    "papermill": {
     "duration": 0.025082,
     "end_time": "2025-02-25T03:54:07.982422",
     "exception": false,
     "start_time": "2025-02-25T03:54:07.957340",
     "status": "completed"
    },
    "tags": []
   },
   "outputs": [],
   "source": [
    "import os\n",
    "\n",
    "# Define the top-level output directory\n",
    "top_level_dir = os.path.join(os.getcwd(), \"output\")\n",
    "\n",
    "# Create the top-level directory only if it doesn't exist\n",
    "os.makedirs(top_level_dir, exist_ok=True)"
   ]
  },
  {
   "cell_type": "markdown",
   "id": "86ded1d9",
   "metadata": {
    "papermill": {
     "duration": 0.005209,
     "end_time": "2025-02-25T03:54:07.992272",
     "exception": false,
     "start_time": "2025-02-25T03:54:07.987063",
     "status": "completed"
    },
    "tags": []
   },
   "source": [
    "Connect to Db2"
   ]
  },
  {
   "cell_type": "code",
   "execution_count": 6,
   "id": "7334c4ef",
   "metadata": {
    "execution": {
     "iopub.execute_input": "2025-02-25T03:54:08.005039Z",
     "iopub.status.busy": "2025-02-25T03:54:08.004129Z",
     "iopub.status.idle": "2025-02-25T03:54:08.094456Z",
     "shell.execute_reply": "2025-02-25T03:54:08.092898Z"
    },
    "papermill": {
     "duration": 0.1001,
     "end_time": "2025-02-25T03:54:08.097371",
     "exception": false,
     "start_time": "2025-02-25T03:54:07.997271",
     "status": "completed"
    },
    "tags": []
   },
   "outputs": [
    {
     "name": "stdout",
     "output_type": "stream",
     "text": [
      "Connection successful. tpcds @ localhost \n"
     ]
    }
   ],
   "source": [
    "db2creds = dotenv_values('.env')\n",
    "%sql CONNECT CREDENTIALS db2creds"
   ]
  },
  {
   "cell_type": "code",
   "execution_count": 7,
   "id": "08841c60",
   "metadata": {
    "execution": {
     "iopub.execute_input": "2025-02-25T03:54:08.113327Z",
     "iopub.status.busy": "2025-02-25T03:54:08.112967Z",
     "iopub.status.idle": "2025-02-25T03:54:08.130633Z",
     "shell.execute_reply": "2025-02-25T03:54:08.129015Z"
    },
    "papermill": {
     "duration": 0.029718,
     "end_time": "2025-02-25T03:54:08.133556",
     "exception": false,
     "start_time": "2025-02-25T03:54:08.103838",
     "status": "completed"
    },
    "tags": []
   },
   "outputs": [
    {
     "name": "stdout",
     "output_type": "stream",
     "text": [
      "Command completed.\n"
     ]
    }
   ],
   "source": [
    "# Activate event monitor\n",
    "%sql SET EVENT MONITOR ACTEVMON STATE 1;"
   ]
  },
  {
   "cell_type": "code",
   "execution_count": 8,
   "id": "40e86de2",
   "metadata": {
    "execution": {
     "iopub.execute_input": "2025-02-25T03:54:08.158946Z",
     "iopub.status.busy": "2025-02-25T03:54:08.158486Z",
     "iopub.status.idle": "2025-02-25T03:54:08.183750Z",
     "shell.execute_reply": "2025-02-25T03:54:08.182631Z"
    },
    "papermill": {
     "duration": 0.040555,
     "end_time": "2025-02-25T03:54:08.185481",
     "exception": false,
     "start_time": "2025-02-25T03:54:08.144926",
     "status": "completed"
    },
    "tags": []
   },
   "outputs": [
    {
     "data": {
      "text/plain": [
       "[None, None, None, 'query1', None]"
      ]
     },
     "execution_count": 8,
     "metadata": {},
     "output_type": "execute_result"
    }
   ],
   "source": [
    "# Set client info\n",
    "%sql CALL WLM_SET_CLIENT_INFO(NULL,NULL,NULL,:queryid,NULL);"
   ]
  },
  {
   "cell_type": "code",
   "execution_count": 9,
   "id": "5b87a4ea",
   "metadata": {
    "execution": {
     "iopub.execute_input": "2025-02-25T03:54:08.198588Z",
     "iopub.status.busy": "2025-02-25T03:54:08.197575Z",
     "iopub.status.idle": "2025-02-25T03:54:14.912740Z",
     "shell.execute_reply": "2025-02-25T03:54:14.911622Z"
    },
    "papermill": {
     "duration": 6.725265,
     "end_time": "2025-02-25T03:54:14.916325",
     "exception": false,
     "start_time": "2025-02-25T03:54:08.191060",
     "status": "completed"
    },
    "tags": []
   },
   "outputs": [
    {
     "data": {
      "text/html": [
       "<div>\n",
       "<style scoped>\n",
       "    .dataframe tbody tr th:only-of-type {\n",
       "        vertical-align: middle;\n",
       "    }\n",
       "\n",
       "    .dataframe tbody tr th {\n",
       "        vertical-align: top;\n",
       "    }\n",
       "\n",
       "    .dataframe thead th {\n",
       "        text-align: right;\n",
       "    }\n",
       "</style>\n",
       "<table border=\"1\" class=\"dataframe\">\n",
       "  <thead>\n",
       "    <tr style=\"text-align: right;\">\n",
       "      <th></th>\n",
       "      <th>SS_WHOLESALE_COST</th>\n",
       "      <th>SR_NET_LOSS</th>\n",
       "    </tr>\n",
       "  </thead>\n",
       "  <tbody>\n",
       "    <tr>\n",
       "      <th>0</th>\n",
       "      <td>68.54</td>\n",
       "      <td>473.29</td>\n",
       "    </tr>\n",
       "    <tr>\n",
       "      <th>1</th>\n",
       "      <td>47.99</td>\n",
       "      <td>1448.18</td>\n",
       "    </tr>\n",
       "    <tr>\n",
       "      <th>2</th>\n",
       "      <td>67.78</td>\n",
       "      <td>557.29</td>\n",
       "    </tr>\n",
       "    <tr>\n",
       "      <th>3</th>\n",
       "      <td>3.62</td>\n",
       "      <td>140.00</td>\n",
       "    </tr>\n",
       "    <tr>\n",
       "      <th>4</th>\n",
       "      <td>29.61</td>\n",
       "      <td>NaN</td>\n",
       "    </tr>\n",
       "    <tr>\n",
       "      <th>5</th>\n",
       "      <td>26.28</td>\n",
       "      <td>121.02</td>\n",
       "    </tr>\n",
       "    <tr>\n",
       "      <th>6</th>\n",
       "      <td>45.44</td>\n",
       "      <td>55.13</td>\n",
       "    </tr>\n",
       "    <tr>\n",
       "      <th>7</th>\n",
       "      <td>88.22</td>\n",
       "      <td>522.09</td>\n",
       "    </tr>\n",
       "    <tr>\n",
       "      <th>8</th>\n",
       "      <td>74.79</td>\n",
       "      <td>57.54</td>\n",
       "    </tr>\n",
       "    <tr>\n",
       "      <th>9</th>\n",
       "      <td>93.95</td>\n",
       "      <td>5798.67</td>\n",
       "    </tr>\n",
       "    <tr>\n",
       "      <th>10</th>\n",
       "      <td>9.32</td>\n",
       "      <td>32.13</td>\n",
       "    </tr>\n",
       "    <tr>\n",
       "      <th>11</th>\n",
       "      <td>31.55</td>\n",
       "      <td>NaN</td>\n",
       "    </tr>\n",
       "    <tr>\n",
       "      <th>12</th>\n",
       "      <td>57.67</td>\n",
       "      <td>1229.75</td>\n",
       "    </tr>\n",
       "    <tr>\n",
       "      <th>13</th>\n",
       "      <td>13.20</td>\n",
       "      <td>67.35</td>\n",
       "    </tr>\n",
       "    <tr>\n",
       "      <th>14</th>\n",
       "      <td>84.73</td>\n",
       "      <td>362.20</td>\n",
       "    </tr>\n",
       "    <tr>\n",
       "      <th>15</th>\n",
       "      <td>56.22</td>\n",
       "      <td>1035.78</td>\n",
       "    </tr>\n",
       "    <tr>\n",
       "      <th>16</th>\n",
       "      <td>30.71</td>\n",
       "      <td>329.91</td>\n",
       "    </tr>\n",
       "    <tr>\n",
       "      <th>17</th>\n",
       "      <td>66.08</td>\n",
       "      <td>25.61</td>\n",
       "    </tr>\n",
       "    <tr>\n",
       "      <th>18</th>\n",
       "      <td>14.27</td>\n",
       "      <td>206.42</td>\n",
       "    </tr>\n",
       "    <tr>\n",
       "      <th>19</th>\n",
       "      <td>53.75</td>\n",
       "      <td>57.71</td>\n",
       "    </tr>\n",
       "    <tr>\n",
       "      <th>20</th>\n",
       "      <td>83.05</td>\n",
       "      <td>988.96</td>\n",
       "    </tr>\n",
       "    <tr>\n",
       "      <th>21</th>\n",
       "      <td>26.80</td>\n",
       "      <td>25.72</td>\n",
       "    </tr>\n",
       "    <tr>\n",
       "      <th>22</th>\n",
       "      <td>50.09</td>\n",
       "      <td>1208.74</td>\n",
       "    </tr>\n",
       "    <tr>\n",
       "      <th>23</th>\n",
       "      <td>81.36</td>\n",
       "      <td>2901.95</td>\n",
       "    </tr>\n",
       "    <tr>\n",
       "      <th>24</th>\n",
       "      <td>66.57</td>\n",
       "      <td>1724.98</td>\n",
       "    </tr>\n",
       "    <tr>\n",
       "      <th>25</th>\n",
       "      <td>11.66</td>\n",
       "      <td>520.91</td>\n",
       "    </tr>\n",
       "    <tr>\n",
       "      <th>26</th>\n",
       "      <td>86.92</td>\n",
       "      <td>42.39</td>\n",
       "    </tr>\n",
       "    <tr>\n",
       "      <th>27</th>\n",
       "      <td>62.50</td>\n",
       "      <td>1945.29</td>\n",
       "    </tr>\n",
       "    <tr>\n",
       "      <th>28</th>\n",
       "      <td>11.03</td>\n",
       "      <td>119.21</td>\n",
       "    </tr>\n",
       "    <tr>\n",
       "      <th>29</th>\n",
       "      <td>51.73</td>\n",
       "      <td>1765.88</td>\n",
       "    </tr>\n",
       "    <tr>\n",
       "      <th>30</th>\n",
       "      <td>60.04</td>\n",
       "      <td>1348.91</td>\n",
       "    </tr>\n",
       "    <tr>\n",
       "      <th>31</th>\n",
       "      <td>86.17</td>\n",
       "      <td>2329.34</td>\n",
       "    </tr>\n",
       "    <tr>\n",
       "      <th>32</th>\n",
       "      <td>70.63</td>\n",
       "      <td>410.92</td>\n",
       "    </tr>\n",
       "    <tr>\n",
       "      <th>33</th>\n",
       "      <td>81.28</td>\n",
       "      <td>696.30</td>\n",
       "    </tr>\n",
       "    <tr>\n",
       "      <th>34</th>\n",
       "      <td>48.98</td>\n",
       "      <td>387.72</td>\n",
       "    </tr>\n",
       "    <tr>\n",
       "      <th>35</th>\n",
       "      <td>25.00</td>\n",
       "      <td>NaN</td>\n",
       "    </tr>\n",
       "    <tr>\n",
       "      <th>36</th>\n",
       "      <td>75.65</td>\n",
       "      <td>2442.17</td>\n",
       "    </tr>\n",
       "    <tr>\n",
       "      <th>37</th>\n",
       "      <td>23.07</td>\n",
       "      <td>184.19</td>\n",
       "    </tr>\n",
       "    <tr>\n",
       "      <th>38</th>\n",
       "      <td>57.02</td>\n",
       "      <td>371.92</td>\n",
       "    </tr>\n",
       "    <tr>\n",
       "      <th>39</th>\n",
       "      <td>22.99</td>\n",
       "      <td>150.69</td>\n",
       "    </tr>\n",
       "    <tr>\n",
       "      <th>40</th>\n",
       "      <td>45.03</td>\n",
       "      <td>97.05</td>\n",
       "    </tr>\n",
       "    <tr>\n",
       "      <th>41</th>\n",
       "      <td>89.33</td>\n",
       "      <td>643.28</td>\n",
       "    </tr>\n",
       "    <tr>\n",
       "      <th>42</th>\n",
       "      <td>71.00</td>\n",
       "      <td>75.40</td>\n",
       "    </tr>\n",
       "    <tr>\n",
       "      <th>43</th>\n",
       "      <td>79.95</td>\n",
       "      <td>151.65</td>\n",
       "    </tr>\n",
       "    <tr>\n",
       "      <th>44</th>\n",
       "      <td>61.37</td>\n",
       "      <td>504.23</td>\n",
       "    </tr>\n",
       "    <tr>\n",
       "      <th>45</th>\n",
       "      <td>69.35</td>\n",
       "      <td>453.37</td>\n",
       "    </tr>\n",
       "    <tr>\n",
       "      <th>46</th>\n",
       "      <td>84.23</td>\n",
       "      <td>3993.72</td>\n",
       "    </tr>\n",
       "    <tr>\n",
       "      <th>47</th>\n",
       "      <td>76.43</td>\n",
       "      <td>186.61</td>\n",
       "    </tr>\n",
       "    <tr>\n",
       "      <th>48</th>\n",
       "      <td>78.26</td>\n",
       "      <td>108.88</td>\n",
       "    </tr>\n",
       "    <tr>\n",
       "      <th>49</th>\n",
       "      <td>36.15</td>\n",
       "      <td>250.73</td>\n",
       "    </tr>\n",
       "    <tr>\n",
       "      <th>50</th>\n",
       "      <td>43.59</td>\n",
       "      <td>676.61</td>\n",
       "    </tr>\n",
       "    <tr>\n",
       "      <th>51</th>\n",
       "      <td>76.96</td>\n",
       "      <td>506.57</td>\n",
       "    </tr>\n",
       "    <tr>\n",
       "      <th>52</th>\n",
       "      <td>46.41</td>\n",
       "      <td>332.55</td>\n",
       "    </tr>\n",
       "    <tr>\n",
       "      <th>53</th>\n",
       "      <td>23.78</td>\n",
       "      <td>655.89</td>\n",
       "    </tr>\n",
       "    <tr>\n",
       "      <th>54</th>\n",
       "      <td>65.22</td>\n",
       "      <td>2017.58</td>\n",
       "    </tr>\n",
       "    <tr>\n",
       "      <th>55</th>\n",
       "      <td>47.80</td>\n",
       "      <td>326.69</td>\n",
       "    </tr>\n",
       "    <tr>\n",
       "      <th>56</th>\n",
       "      <td>91.64</td>\n",
       "      <td>861.11</td>\n",
       "    </tr>\n",
       "    <tr>\n",
       "      <th>57</th>\n",
       "      <td>48.77</td>\n",
       "      <td>403.53</td>\n",
       "    </tr>\n",
       "    <tr>\n",
       "      <th>58</th>\n",
       "      <td>59.26</td>\n",
       "      <td>NaN</td>\n",
       "    </tr>\n",
       "    <tr>\n",
       "      <th>59</th>\n",
       "      <td>45.16</td>\n",
       "      <td>175.64</td>\n",
       "    </tr>\n",
       "    <tr>\n",
       "      <th>60</th>\n",
       "      <td>56.33</td>\n",
       "      <td>287.34</td>\n",
       "    </tr>\n",
       "    <tr>\n",
       "      <th>61</th>\n",
       "      <td>3.03</td>\n",
       "      <td>15.58</td>\n",
       "    </tr>\n",
       "    <tr>\n",
       "      <th>62</th>\n",
       "      <td>3.36</td>\n",
       "      <td>63.08</td>\n",
       "    </tr>\n",
       "    <tr>\n",
       "      <th>63</th>\n",
       "      <td>29.13</td>\n",
       "      <td>1533.51</td>\n",
       "    </tr>\n",
       "    <tr>\n",
       "      <th>64</th>\n",
       "      <td>NaN</td>\n",
       "      <td>238.70</td>\n",
       "    </tr>\n",
       "    <tr>\n",
       "      <th>65</th>\n",
       "      <td>82.57</td>\n",
       "      <td>972.98</td>\n",
       "    </tr>\n",
       "    <tr>\n",
       "      <th>66</th>\n",
       "      <td>73.30</td>\n",
       "      <td>2190.90</td>\n",
       "    </tr>\n",
       "    <tr>\n",
       "      <th>67</th>\n",
       "      <td>73.88</td>\n",
       "      <td>123.58</td>\n",
       "    </tr>\n",
       "    <tr>\n",
       "      <th>68</th>\n",
       "      <td>83.01</td>\n",
       "      <td>86.10</td>\n",
       "    </tr>\n",
       "    <tr>\n",
       "      <th>69</th>\n",
       "      <td>9.82</td>\n",
       "      <td>183.07</td>\n",
       "    </tr>\n",
       "    <tr>\n",
       "      <th>70</th>\n",
       "      <td>15.76</td>\n",
       "      <td>216.17</td>\n",
       "    </tr>\n",
       "    <tr>\n",
       "      <th>71</th>\n",
       "      <td>44.14</td>\n",
       "      <td>121.03</td>\n",
       "    </tr>\n",
       "    <tr>\n",
       "      <th>72</th>\n",
       "      <td>69.85</td>\n",
       "      <td>1704.43</td>\n",
       "    </tr>\n",
       "    <tr>\n",
       "      <th>73</th>\n",
       "      <td>88.22</td>\n",
       "      <td>266.35</td>\n",
       "    </tr>\n",
       "    <tr>\n",
       "      <th>74</th>\n",
       "      <td>81.45</td>\n",
       "      <td>961.01</td>\n",
       "    </tr>\n",
       "    <tr>\n",
       "      <th>75</th>\n",
       "      <td>27.63</td>\n",
       "      <td>71.03</td>\n",
       "    </tr>\n",
       "    <tr>\n",
       "      <th>76</th>\n",
       "      <td>88.34</td>\n",
       "      <td>2679.80</td>\n",
       "    </tr>\n",
       "    <tr>\n",
       "      <th>77</th>\n",
       "      <td>98.78</td>\n",
       "      <td>434.30</td>\n",
       "    </tr>\n",
       "    <tr>\n",
       "      <th>78</th>\n",
       "      <td>1.16</td>\n",
       "      <td>6.51</td>\n",
       "    </tr>\n",
       "    <tr>\n",
       "      <th>79</th>\n",
       "      <td>94.25</td>\n",
       "      <td>886.41</td>\n",
       "    </tr>\n",
       "  </tbody>\n",
       "</table>\n",
       "</div>"
      ],
      "text/plain": [
       "    SS_WHOLESALE_COST  SR_NET_LOSS\n",
       "0               68.54       473.29\n",
       "1               47.99      1448.18\n",
       "2               67.78       557.29\n",
       "3                3.62       140.00\n",
       "4               29.61          NaN\n",
       "5               26.28       121.02\n",
       "6               45.44        55.13\n",
       "7               88.22       522.09\n",
       "8               74.79        57.54\n",
       "9               93.95      5798.67\n",
       "10               9.32        32.13\n",
       "11              31.55          NaN\n",
       "12              57.67      1229.75\n",
       "13              13.20        67.35\n",
       "14              84.73       362.20\n",
       "15              56.22      1035.78\n",
       "16              30.71       329.91\n",
       "17              66.08        25.61\n",
       "18              14.27       206.42\n",
       "19              53.75        57.71\n",
       "20              83.05       988.96\n",
       "21              26.80        25.72\n",
       "22              50.09      1208.74\n",
       "23              81.36      2901.95\n",
       "24              66.57      1724.98\n",
       "25              11.66       520.91\n",
       "26              86.92        42.39\n",
       "27              62.50      1945.29\n",
       "28              11.03       119.21\n",
       "29              51.73      1765.88\n",
       "30              60.04      1348.91\n",
       "31              86.17      2329.34\n",
       "32              70.63       410.92\n",
       "33              81.28       696.30\n",
       "34              48.98       387.72\n",
       "35              25.00          NaN\n",
       "36              75.65      2442.17\n",
       "37              23.07       184.19\n",
       "38              57.02       371.92\n",
       "39              22.99       150.69\n",
       "40              45.03        97.05\n",
       "41              89.33       643.28\n",
       "42              71.00        75.40\n",
       "43              79.95       151.65\n",
       "44              61.37       504.23\n",
       "45              69.35       453.37\n",
       "46              84.23      3993.72\n",
       "47              76.43       186.61\n",
       "48              78.26       108.88\n",
       "49              36.15       250.73\n",
       "50              43.59       676.61\n",
       "51              76.96       506.57\n",
       "52              46.41       332.55\n",
       "53              23.78       655.89\n",
       "54              65.22      2017.58\n",
       "55              47.80       326.69\n",
       "56              91.64       861.11\n",
       "57              48.77       403.53\n",
       "58              59.26          NaN\n",
       "59              45.16       175.64\n",
       "60              56.33       287.34\n",
       "61               3.03        15.58\n",
       "62               3.36        63.08\n",
       "63              29.13      1533.51\n",
       "64                NaN       238.70\n",
       "65              82.57       972.98\n",
       "66              73.30      2190.90\n",
       "67              73.88       123.58\n",
       "68              83.01        86.10\n",
       "69               9.82       183.07\n",
       "70              15.76       216.17\n",
       "71              44.14       121.03\n",
       "72              69.85      1704.43\n",
       "73              88.22       266.35\n",
       "74              81.45       961.01\n",
       "75              27.63        71.03\n",
       "76              88.34      2679.80\n",
       "77              98.78       434.30\n",
       "78               1.16         6.51\n",
       "79              94.25       886.41"
      ]
     },
     "execution_count": 9,
     "metadata": {},
     "output_type": "execute_result"
    }
   ],
   "source": [
    "%sql {sql_statement}"
   ]
  },
  {
   "cell_type": "code",
   "execution_count": 10,
   "id": "eb7b3ade",
   "metadata": {
    "execution": {
     "iopub.execute_input": "2025-02-25T03:54:14.947609Z",
     "iopub.status.busy": "2025-02-25T03:54:14.947137Z",
     "iopub.status.idle": "2025-02-25T03:54:14.966673Z",
     "shell.execute_reply": "2025-02-25T03:54:14.964919Z"
    },
    "papermill": {
     "duration": 0.040088,
     "end_time": "2025-02-25T03:54:14.969822",
     "exception": false,
     "start_time": "2025-02-25T03:54:14.929734",
     "status": "completed"
    },
    "tags": []
   },
   "outputs": [
    {
     "name": "stdout",
     "output_type": "stream",
     "text": [
      "Command completed.\n"
     ]
    }
   ],
   "source": [
    "# Deactivate the event monitor to ensure its data is written to the activity tables\n",
    "%sql SET EVENT MONITOR ACTEVMON STATE 0"
   ]
  },
  {
   "cell_type": "code",
   "execution_count": 11,
   "id": "cb835d8c",
   "metadata": {
    "execution": {
     "iopub.execute_input": "2025-02-25T03:54:14.985730Z",
     "iopub.status.busy": "2025-02-25T03:54:14.984445Z",
     "iopub.status.idle": "2025-02-25T03:54:15.005634Z",
     "shell.execute_reply": "2025-02-25T03:54:15.004527Z"
    },
    "papermill": {
     "duration": 0.032482,
     "end_time": "2025-02-25T03:54:15.008616",
     "exception": false,
     "start_time": "2025-02-25T03:54:14.976134",
     "status": "completed"
    },
    "tags": []
   },
   "outputs": [],
   "source": [
    "result = %sql SELECT a.APPL_ID, a.UOW_ID, a.ACTIVITY_ID \\\n",
    "    FROM ACTIVITY_ACTEVMON a \\\n",
    "    WHERE a.ACTIVITY_TYPE = 'READ_DML' AND a.TPMON_ACC_STR = :queryid"
   ]
  },
  {
   "cell_type": "code",
   "execution_count": 12,
   "id": "c692c21a",
   "metadata": {
    "execution": {
     "iopub.execute_input": "2025-02-25T03:54:15.024728Z",
     "iopub.status.busy": "2025-02-25T03:54:15.023859Z",
     "iopub.status.idle": "2025-02-25T03:54:15.033002Z",
     "shell.execute_reply": "2025-02-25T03:54:15.030997Z"
    },
    "papermill": {
     "duration": 0.020621,
     "end_time": "2025-02-25T03:54:15.036425",
     "exception": false,
     "start_time": "2025-02-25T03:54:15.015804",
     "status": "completed"
    },
    "tags": []
   },
   "outputs": [],
   "source": [
    "appl_id = result['APPL_ID'].iloc[0]\n",
    "uow_id = result.at[0, 'UOW_ID'].item()\n",
    "activity_id = result.at[0, 'ACTIVITY_ID'].item()\n",
    "event_monitor = 'ACTEVMON'\n",
    "schema = 'DB2INST1'"
   ]
  },
  {
   "cell_type": "code",
   "execution_count": 13,
   "id": "0e6b015c",
   "metadata": {
    "execution": {
     "iopub.execute_input": "2025-02-25T03:54:15.065054Z",
     "iopub.status.busy": "2025-02-25T03:54:15.064116Z",
     "iopub.status.idle": "2025-02-25T03:54:15.075037Z",
     "shell.execute_reply": "2025-02-25T03:54:15.073872Z"
    },
    "papermill": {
     "duration": 0.029421,
     "end_time": "2025-02-25T03:54:15.077744",
     "exception": false,
     "start_time": "2025-02-25T03:54:15.048323",
     "status": "completed"
    },
    "tags": []
   },
   "outputs": [
    {
     "name": "stdout",
     "output_type": "stream",
     "text": [
      "                        APPL_ID  UOW_ID  ACTIVITY_ID\n",
      "0  127.0.0.1.52522.250225035408       5            1\n"
     ]
    }
   ],
   "source": [
    "\n",
    "print(result)"
   ]
  },
  {
   "cell_type": "code",
   "execution_count": 14,
   "id": "427c7b2e",
   "metadata": {
    "execution": {
     "iopub.execute_input": "2025-02-25T03:54:15.095448Z",
     "iopub.status.busy": "2025-02-25T03:54:15.094305Z",
     "iopub.status.idle": "2025-02-25T03:54:15.102819Z",
     "shell.execute_reply": "2025-02-25T03:54:15.101338Z"
    },
    "papermill": {
     "duration": 0.019369,
     "end_time": "2025-02-25T03:54:15.105036",
     "exception": false,
     "start_time": "2025-02-25T03:54:15.085667",
     "status": "completed"
    },
    "tags": []
   },
   "outputs": [
    {
     "name": "stdout",
     "output_type": "stream",
     "text": [
      "appl_id:  127.0.0.1.52522.250225035408\n",
      "uow_id:  5\n",
      "activity_id:  1\n"
     ]
    }
   ],
   "source": [
    "print('appl_id: ', appl_id)\n",
    "print('uow_id: ', uow_id)\n",
    "print('activity_id: ', activity_id)"
   ]
  },
  {
   "cell_type": "code",
   "execution_count": 15,
   "id": "da0043e4",
   "metadata": {
    "execution": {
     "iopub.execute_input": "2025-02-25T03:54:15.121875Z",
     "iopub.status.busy": "2025-02-25T03:54:15.121325Z",
     "iopub.status.idle": "2025-02-25T03:54:16.353723Z",
     "shell.execute_reply": "2025-02-25T03:54:16.351998Z"
    },
    "papermill": {
     "duration": 1.245858,
     "end_time": "2025-02-25T03:54:16.357535",
     "exception": false,
     "start_time": "2025-02-25T03:54:15.111677",
     "status": "completed"
    },
    "tags": []
   },
   "outputs": [],
   "source": [
    "%%capture explain_output\n",
    "sql = f'''\"CALL EXPLAIN_FROM_ACTIVITY('{appl_id}', '{uow_id}', '{activity_id}', '{event_monitor}', '{schema}', null, null, null, null, null)\"'''\n",
    "_ = ! db2 \"connect to TPCDS\" \n",
    "\n",
    "explain = %system db2 {sql}"
   ]
  },
  {
   "cell_type": "code",
   "execution_count": 16,
   "id": "c2704e10",
   "metadata": {
    "execution": {
     "iopub.execute_input": "2025-02-25T03:54:16.483150Z",
     "iopub.status.busy": "2025-02-25T03:54:16.481956Z",
     "iopub.status.idle": "2025-02-25T03:54:16.493383Z",
     "shell.execute_reply": "2025-02-25T03:54:16.492214Z"
    },
    "papermill": {
     "duration": 0.130808,
     "end_time": "2025-02-25T03:54:16.495909",
     "exception": false,
     "start_time": "2025-02-25T03:54:16.365101",
     "status": "completed"
    },
    "tags": []
   },
   "outputs": [
    {
     "name": "stdout",
     "output_type": "stream",
     "text": [
      "EXPLAIN_TIME: 2025-02-24-19.54.16.324073\n",
      "SOURCE_NAME: SYSSH200\n",
      "SOURCE_SCHEMA: NULLID\n"
     ]
    }
   ],
   "source": [
    "# Initialize variables\n",
    "explain_time = None\n",
    "source_name = None\n",
    "source_schema = None\n",
    "\n",
    "# Iterate through the list\n",
    "for i in range(len(explain)):\n",
    "    if \"EXPLAIN_TIME\" in explain[i]:\n",
    "        explain_time = explain[i + 1].split(\":\")[-1].strip()\n",
    "    elif \"SOURCE_NAME\" in explain[i]:\n",
    "        source_name = explain[i + 1].split(\":\")[-1].strip()\n",
    "    elif \"SOURCE_SCHEMA\" in explain[i]:\n",
    "        source_schema = explain[i + 1].split(\":\")[-1].strip()\n",
    "\n",
    "# Print extracted values\n",
    "print(\"EXPLAIN_TIME:\", explain_time)\n",
    "print(\"SOURCE_NAME:\", source_name)\n",
    "print(\"SOURCE_SCHEMA:\", source_schema)"
   ]
  },
  {
   "cell_type": "code",
   "execution_count": 17,
   "id": "9822bcbd",
   "metadata": {
    "execution": {
     "iopub.execute_input": "2025-02-25T03:54:16.515969Z",
     "iopub.status.busy": "2025-02-25T03:54:16.514568Z",
     "iopub.status.idle": "2025-02-25T03:54:16.524281Z",
     "shell.execute_reply": "2025-02-25T03:54:16.522703Z"
    },
    "papermill": {
     "duration": 0.02382,
     "end_time": "2025-02-25T03:54:16.527137",
     "exception": false,
     "start_time": "2025-02-25T03:54:16.503317",
     "status": "completed"
    },
    "tags": []
   },
   "outputs": [
    {
     "data": {
      "text/plain": [
       "'2025-02-24-19.54.16.324073'"
      ]
     },
     "execution_count": 17,
     "metadata": {},
     "output_type": "execute_result"
    }
   ],
   "source": [
    "explain_time"
   ]
  },
  {
   "cell_type": "code",
   "execution_count": 18,
   "id": "e2740881",
   "metadata": {
    "execution": {
     "iopub.execute_input": "2025-02-25T03:54:16.544488Z",
     "iopub.status.busy": "2025-02-25T03:54:16.544016Z",
     "iopub.status.idle": "2025-02-25T03:54:16.552200Z",
     "shell.execute_reply": "2025-02-25T03:54:16.551155Z"
    },
    "papermill": {
     "duration": 0.020706,
     "end_time": "2025-02-25T03:54:16.554565",
     "exception": false,
     "start_time": "2025-02-25T03:54:16.533859",
     "status": "completed"
    },
    "tags": []
   },
   "outputs": [
    {
     "name": "stdout",
     "output_type": "stream",
     "text": [
      "Database Name: tpcds\n"
     ]
    }
   ],
   "source": [
    "from dotenv import dotenv_values\n",
    "\n",
    "# Load environment variables from the .env file\n",
    "db2creds = dotenv_values('.env')\n",
    "\n",
    "# Extract the database name\n",
    "database_name = db2creds.get(\"database\")  # Use .get() to avoid KeyError if the key is missing\n",
    "\n",
    "# Print the extracted database name\n",
    "print(\"Database Name:\", database_name)"
   ]
  },
  {
   "cell_type": "markdown",
   "id": "a0299495",
   "metadata": {
    "papermill": {
     "duration": 0.008488,
     "end_time": "2025-02-25T03:54:16.570162",
     "exception": false,
     "start_time": "2025-02-25T03:54:16.561674",
     "status": "completed"
    },
    "tags": []
   },
   "source": [
    "# Generate Explain and Export the Explain output"
   ]
  },
  {
   "cell_type": "code",
   "execution_count": 19,
   "id": "84afa91c",
   "metadata": {
    "execution": {
     "iopub.execute_input": "2025-02-25T03:54:16.585964Z",
     "iopub.status.busy": "2025-02-25T03:54:16.585152Z",
     "iopub.status.idle": "2025-02-25T03:54:17.857418Z",
     "shell.execute_reply": "2025-02-25T03:54:17.856515Z"
    },
    "papermill": {
     "duration": 1.283054,
     "end_time": "2025-02-25T03:54:17.859578",
     "exception": false,
     "start_time": "2025-02-25T03:54:16.576524",
     "status": "completed"
    },
    "tags": []
   },
   "outputs": [
    {
     "name": "stdout",
     "output_type": "stream",
     "text": [
      "db2exfmt -d \"tpcds\" -w \"2025-02-24-19.54.16.324073\" -n \"SYSSH200\" -s \"NULLID\" -# 0 -o \"/home/db2inst1/db2-labs/explain/batch-queries/output/2025-02-24-19.54.16.324073/explain.out\"\n"
     ]
    },
    {
     "name": "stderr",
     "output_type": "stream",
     "text": [
      "DB2 Universal Database Version 11.5, 5622-044 (c) Copyright IBM Corp. 1991, 2019\n",
      "Licensed Material - Program Property of IBM\n",
      "IBM DATABASE 2 Explain Table Format Tool\n",
      "\n",
      "Connect to Database Successful.\n"
     ]
    },
    {
     "name": "stderr",
     "output_type": "stream",
     "text": [
      "Output is in /home/db2inst1/db2-labs/explain/batch-queries/output/2025-02-24-19.54.16.324073/explain.out.\n",
      "Executing Connect Reset -- Connect Reset was Successful.\n"
     ]
    },
    {
     "name": "stdout",
     "output_type": "stream",
     "text": [
      "Connecting to the Database.\n",
      "SQL statements have been loaded from sql_statements.json\n",
      "Processing table: ACTIVITYSTMT_ACTEVMON\n",
      "Saved ACTIVITYSTMT_ACTEVMON data to /home/db2inst1/db2-labs/explain/batch-queries/output/2025-02-24-19.54.16.324073/ACTIVITYSTMT_ACTEVMON.csv\n",
      "Processing table: ACTIVITY_ACTEVMON\n"
     ]
    },
    {
     "name": "stdout",
     "output_type": "stream",
     "text": [
      "Saved ACTIVITY_ACTEVMON data to /home/db2inst1/db2-labs/explain/batch-queries/output/2025-02-24-19.54.16.324073/ACTIVITY_ACTEVMON.csv\n",
      "Processing table: EXPLAIN_ACTUALS\n",
      "Saved EXPLAIN_ACTUALS data to /home/db2inst1/db2-labs/explain/batch-queries/output/2025-02-24-19.54.16.324073/EXPLAIN_ACTUALS.csv\n",
      "Processing table: EXPLAIN_INSTANCE\n",
      "Saved EXPLAIN_INSTANCE data to /home/db2inst1/db2-labs/explain/batch-queries/output/2025-02-24-19.54.16.324073/EXPLAIN_INSTANCE.csv\n",
      "Processing table: EXPLAIN_OBJECT\n",
      "Saved EXPLAIN_OBJECT data to /home/db2inst1/db2-labs/explain/batch-queries/output/2025-02-24-19.54.16.324073/EXPLAIN_OBJECT.csv\n",
      "Processing table: EXPLAIN_OPERATOR\n",
      "Saved EXPLAIN_OPERATOR data to /home/db2inst1/db2-labs/explain/batch-queries/output/2025-02-24-19.54.16.324073/EXPLAIN_OPERATOR.csv\n",
      "Processing table: EXPLAIN_PREDICATE\n",
      "Saved EXPLAIN_PREDICATE data to /home/db2inst1/db2-labs/explain/batch-queries/output/2025-02-24-19.54.16.324073/EXPLAIN_PREDICATE.csv\n",
      "Processing table: EXPLAIN_STATEMENT\n",
      "Saved EXPLAIN_STATEMENT data to /home/db2inst1/db2-labs/explain/batch-queries/output/2025-02-24-19.54.16.324073/EXPLAIN_STATEMENT.csv\n",
      "Processing table: EXPLAIN_STREAM\n"
     ]
    },
    {
     "name": "stdout",
     "output_type": "stream",
     "text": [
      "Saved EXPLAIN_STREAM data to /home/db2inst1/db2-labs/explain/batch-queries/output/2025-02-24-19.54.16.324073/EXPLAIN_STREAM.csv\n"
     ]
    }
   ],
   "source": [
    "# Define the subdirectory for a specific explain_time output\n",
    "outputdir = os.path.join(top_level_dir, f\"{explain_time}\")\n",
    "os.makedirs(outputdir, exist_ok=True)  # Create the subdirectory if it doesn't exist\n",
    "\n",
    "# If the directory exists, delete its contents\n",
    "for filename in os.listdir(outputdir):\n",
    "    file_path = os.path.join(outputdir, filename)\n",
    "    if os.path.isfile(file_path) or os.path.islink(file_path):\n",
    "        os.unlink(file_path)  # Remove files and symlinks\n",
    "    elif os.path.isdir(file_path):\n",
    "        shutil.rmtree(file_path)  # Remove subdirectories\n",
    "\n",
    "# Define output file\n",
    "explain_output = \"explain.out\"\n",
    "\n",
    "db2exfmt_cmd = f'''db2exfmt -d \"{database_name}\" -w \"{explain_time}\" -n \"{source_name}\" -s \"{source_schema}\" -# 0 -o \"{outputdir}/{explain_output}\"'''\n",
    "print(db2exfmt_cmd)\n",
    "\n",
    "# Uncomment the following line to execute the command (if running in a shell environment)\n",
    "os.system(db2exfmt_cmd)\n",
    "\n",
    "# Load the dictionary from the JSON file\n",
    "with open(\"export_sql.json\", \"r\") as json_file:\n",
    "    export_sql_statements = json.load(json_file)\n",
    "\n",
    "print(\"SQL statements have been loaded from sql_statements.json\")\n",
    "\n",
    "# Loop through each table in the dictionary\n",
    "for table_name, query in export_sql_statements.items():\n",
    "    print(f\"Processing table: {table_name}\")\n",
    "\n",
    "    # Execute the dynamically generated SQL using %sql magic\n",
    "    df_result = %sql {query}\n",
    "\n",
    "    # Convert result to Pandas DataFrame\n",
    "    # df_result = df_result.DataFrame()\n",
    "\n",
    "    # Save to CSV without including the index in the \"explain\" directory\n",
    "    output_file_path = os.path.join(outputdir, f\"{table_name}.csv\")\n",
    "    df_result.to_csv(output_file_path, index=False)\n",
    "\n",
    "    print(f\"Saved {table_name} data to {output_file_path}\")"
   ]
  },
  {
   "cell_type": "code",
   "execution_count": 20,
   "id": "e4c8ddb8",
   "metadata": {
    "execution": {
     "iopub.execute_input": "2025-02-25T03:54:17.893539Z",
     "iopub.status.busy": "2025-02-25T03:54:17.892637Z",
     "iopub.status.idle": "2025-02-25T03:54:17.904056Z",
     "shell.execute_reply": "2025-02-25T03:54:17.903098Z"
    },
    "papermill": {
     "duration": 0.030307,
     "end_time": "2025-02-25T03:54:17.906297",
     "exception": false,
     "start_time": "2025-02-25T03:54:17.875990",
     "status": "completed"
    },
    "tags": []
   },
   "outputs": [
    {
     "name": "stdout",
     "output_type": "stream",
     "text": [
      "Connection closed.\n"
     ]
    }
   ],
   "source": [
    "%sql CONNECT RESET"
   ]
  }
 ],
 "metadata": {
  "kernelspec": {
   "display_name": ".venv",
   "language": "python",
   "name": "python3"
  },
  "language_info": {
   "codemirror_mode": {
    "name": "ipython",
    "version": 3
   },
   "file_extension": ".py",
   "mimetype": "text/x-python",
   "name": "python",
   "nbconvert_exporter": "python",
   "pygments_lexer": "ipython3",
   "version": "3.12.8"
  },
  "papermill": {
   "default_parameters": {},
   "duration": 13.489285,
   "end_time": "2025-02-25T03:54:18.440560",
   "environment_variables": {},
   "exception": null,
   "input_path": "single-query.ipynb",
   "output_path": "/home/db2inst1/db2-labs/explain/batch-queries/output_notebooks/query1.ipynb",
   "parameters": {
    "queryid": "query1",
    "sql_statement": "SELECT SS_WHOLESALE_COST , SR_NET_LOSS FROM STORE_SALES INNER JOIN STORE_RETURNS ON SR_TICKET_NUMBER = SS_TICKET_NUMBER AND SR_ITEM_SK = SS_ITEM_SK WHERE SS_STORE_SK = 2 AND SR_RETURNED_DATE_SK = 2451680"
   },
   "start_time": "2025-02-25T03:54:04.951275",
   "version": "2.6.0"
  }
 },
 "nbformat": 4,
 "nbformat_minor": 5
}