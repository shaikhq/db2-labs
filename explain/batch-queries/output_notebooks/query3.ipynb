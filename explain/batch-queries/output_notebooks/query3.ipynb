{
 "cells": [
  {
   "cell_type": "markdown",
   "id": "dc39a080",
   "metadata": {
    "papermill": {
     "duration": 0.007465,
     "end_time": "2025-02-25T03:54:34.631960",
     "exception": false,
     "start_time": "2025-02-25T03:54:34.624495",
     "status": "completed"
    },
    "tags": []
   },
   "source": [
    "# 📊 Automating the Collection of EXPLAIN Plans and Runtime Metrics in Db2 LUW\n",
    "This notebook automates the process of running a SQL query in Db2 and capturing its execution details using EXPLAIN tables and activity event monitors. The workflow includes:\n",
    "\n",
    "1. **Setup of Activity Event Monitor:** Configures an event monitor in Db2 to collect runtime metrics such as execution time and resource usage during query execution.\n",
    "2. **Creation of EXPLAIN Tables:** Sets up EXPLAIN tables in Db2 to store detailed execution plans for SQL queries.\n",
    "3. **Query Execution:** Runs a SQL query to gather execution metrics and analyze its performance.\n",
    "4. **EXPLAIN Plan Generation:** Captures the execution plan of the query to understand how Db2 will process the operation.\n",
    "5. **Exporting Data:** Exports the collected EXPLAIN and activity monitor data as CSV files for external analysis or reporting.\n",
    "\n",
    "For detailed setup instructions and guidance on running this notebook, refer to the [README.md](./README.md) file in the same directory.\n",
    "\n",
    "This notebook provides a fully automated approach for analyzing query performance and gathering runtime metrics, helping database administrators and developers optimize their queries effectively.\n"
   ]
  },
  {
   "cell_type": "code",
   "execution_count": 1,
   "id": "cb91c2f7",
   "metadata": {
    "execution": {
     "iopub.execute_input": "2025-02-25T03:54:34.651574Z",
     "iopub.status.busy": "2025-02-25T03:54:34.651191Z",
     "iopub.status.idle": "2025-02-25T03:54:35.318372Z",
     "shell.execute_reply": "2025-02-25T03:54:35.316750Z"
    },
    "papermill": {
     "duration": 0.683849,
     "end_time": "2025-02-25T03:54:35.321340",
     "exception": false,
     "start_time": "2025-02-25T03:54:34.637491",
     "status": "completed"
    },
    "tags": []
   },
   "outputs": [],
   "source": [
    "import os\n",
    "from dotenv import dotenv_values\n",
    "import json\n",
    "import shutil\n",
    "import pandas as pd"
   ]
  },
  {
   "cell_type": "code",
   "execution_count": 2,
   "id": "a7728c65",
   "metadata": {
    "execution": {
     "iopub.execute_input": "2025-02-25T03:54:35.341972Z",
     "iopub.status.busy": "2025-02-25T03:54:35.341432Z",
     "iopub.status.idle": "2025-02-25T03:54:35.347995Z",
     "shell.execute_reply": "2025-02-25T03:54:35.346306Z"
    },
    "papermill": {
     "duration": 0.019037,
     "end_time": "2025-02-25T03:54:35.350123",
     "exception": false,
     "start_time": "2025-02-25T03:54:35.331086",
     "status": "completed"
    },
    "tags": [
     "parameters"
    ]
   },
   "outputs": [],
   "source": [
    "# Parameters (These values will be overwritten when called by papermill)\n",
    "queryid = None\n",
    "sql_statement = None"
   ]
  },
  {
   "cell_type": "code",
   "execution_count": 3,
   "id": "0e76951c",
   "metadata": {
    "execution": {
     "iopub.execute_input": "2025-02-25T03:54:35.364004Z",
     "iopub.status.busy": "2025-02-25T03:54:35.363105Z",
     "iopub.status.idle": "2025-02-25T03:54:35.368985Z",
     "shell.execute_reply": "2025-02-25T03:54:35.367569Z"
    },
    "papermill": {
     "duration": 0.014786,
     "end_time": "2025-02-25T03:54:35.370855",
     "exception": false,
     "start_time": "2025-02-25T03:54:35.356069",
     "status": "completed"
    },
    "tags": [
     "injected-parameters"
    ]
   },
   "outputs": [],
   "source": [
    "# Parameters\n",
    "queryid = \"query3\"\n",
    "sql_statement = \"SELECT SS_EXT_LIST_PRICE , SR_STORE_CREDIT FROM STORE_SALES INNER JOIN STORE_RETURNS ON SR_CUSTOMER_SK = SS_CUSTOMER_SK AND SR_ITEM_SK = SS_ITEM_SK WHERE SS_ADDR_SK >= 8970 AND SR_CUSTOMER_SK <= 93014\"\n"
   ]
  },
  {
   "cell_type": "markdown",
   "id": "ac0dc073",
   "metadata": {
    "papermill": {
     "duration": 0.00767,
     "end_time": "2025-02-25T03:54:35.385541",
     "exception": false,
     "start_time": "2025-02-25T03:54:35.377871",
     "status": "completed"
    },
    "tags": []
   },
   "source": [
    "Loading Db2 Magic Commands Notebook Extension"
   ]
  },
  {
   "cell_type": "code",
   "execution_count": 4,
   "id": "d1a2fbf5",
   "metadata": {
    "execution": {
     "iopub.execute_input": "2025-02-25T03:54:35.403248Z",
     "iopub.status.busy": "2025-02-25T03:54:35.402638Z",
     "iopub.status.idle": "2025-02-25T03:54:36.642193Z",
     "shell.execute_reply": "2025-02-25T03:54:36.640745Z"
    },
    "papermill": {
     "duration": 1.250982,
     "end_time": "2025-02-25T03:54:36.644242",
     "exception": false,
     "start_time": "2025-02-25T03:54:35.393260",
     "status": "completed"
    },
    "tags": []
   },
   "outputs": [
    {
     "name": "stderr",
     "output_type": "stream",
     "text": [
      "<>:1708: SyntaxWarning: invalid escape sequence '\\s'\n",
      "<>:2305: SyntaxWarning: invalid escape sequence '\\?'\n",
      "/tmp/ipykernel_432243/2299624180.py:1708: SyntaxWarning: invalid escape sequence '\\s'\n",
      "  firstCommand = \"(?:^\\s*)([a-zA-Z]+)(?:\\s+.*|$)\"\n",
      "/tmp/ipykernel_432243/2299624180.py:2305: SyntaxWarning: invalid escape sequence '\\?'\n",
      "  pattern = \"\\?\\*[0-9]+\"\n"
     ]
    },
    {
     "name": "stdout",
     "output_type": "stream",
     "text": [
      "Db2 Extensions Loaded. Version: 2024-09-16\n"
     ]
    }
   ],
   "source": [
    "# Enable Db2 Magic Commands Extensions for Jupyter Notebook\n",
    "if not os.path.isfile('db2.ipynb'):\n",
    "    os.system('wget https://raw.githubusercontent.com/IBM/db2-jupyter/master/db2.ipynb')\n",
    "%run db2.ipynb"
   ]
  },
  {
   "cell_type": "code",
   "execution_count": 5,
   "id": "80164cc9",
   "metadata": {
    "execution": {
     "iopub.execute_input": "2025-02-25T03:54:36.662254Z",
     "iopub.status.busy": "2025-02-25T03:54:36.660980Z",
     "iopub.status.idle": "2025-02-25T03:54:36.669039Z",
     "shell.execute_reply": "2025-02-25T03:54:36.667073Z"
    },
    "papermill": {
     "duration": 0.02044,
     "end_time": "2025-02-25T03:54:36.671452",
     "exception": false,
     "start_time": "2025-02-25T03:54:36.651012",
     "status": "completed"
    },
    "tags": []
   },
   "outputs": [],
   "source": [
    "import os\n",
    "\n",
    "# Define the top-level output directory\n",
    "top_level_dir = os.path.join(os.getcwd(), \"output\")\n",
    "\n",
    "# Create the top-level directory only if it doesn't exist\n",
    "os.makedirs(top_level_dir, exist_ok=True)"
   ]
  },
  {
   "cell_type": "markdown",
   "id": "88bfe3a3",
   "metadata": {
    "papermill": {
     "duration": 0.00475,
     "end_time": "2025-02-25T03:54:36.681442",
     "exception": false,
     "start_time": "2025-02-25T03:54:36.676692",
     "status": "completed"
    },
    "tags": []
   },
   "source": [
    "Connect to Db2"
   ]
  },
  {
   "cell_type": "code",
   "execution_count": 6,
   "id": "a85c5c47",
   "metadata": {
    "execution": {
     "iopub.execute_input": "2025-02-25T03:54:36.692172Z",
     "iopub.status.busy": "2025-02-25T03:54:36.691819Z",
     "iopub.status.idle": "2025-02-25T03:54:36.773713Z",
     "shell.execute_reply": "2025-02-25T03:54:36.772082Z"
    },
    "papermill": {
     "duration": 0.090351,
     "end_time": "2025-02-25T03:54:36.776165",
     "exception": false,
     "start_time": "2025-02-25T03:54:36.685814",
     "status": "completed"
    },
    "tags": []
   },
   "outputs": [
    {
     "name": "stdout",
     "output_type": "stream",
     "text": [
      "Connection successful. tpcds @ localhost \n"
     ]
    }
   ],
   "source": [
    "db2creds = dotenv_values('.env')\n",
    "%sql CONNECT CREDENTIALS db2creds"
   ]
  },
  {
   "cell_type": "code",
   "execution_count": 7,
   "id": "cd2da56d",
   "metadata": {
    "execution": {
     "iopub.execute_input": "2025-02-25T03:54:36.797316Z",
     "iopub.status.busy": "2025-02-25T03:54:36.795573Z",
     "iopub.status.idle": "2025-02-25T03:54:36.815478Z",
     "shell.execute_reply": "2025-02-25T03:54:36.814444Z"
    },
    "papermill": {
     "duration": 0.033002,
     "end_time": "2025-02-25T03:54:36.818286",
     "exception": false,
     "start_time": "2025-02-25T03:54:36.785284",
     "status": "completed"
    },
    "tags": []
   },
   "outputs": [
    {
     "name": "stdout",
     "output_type": "stream",
     "text": [
      "Command completed.\n"
     ]
    }
   ],
   "source": [
    "# Activate event monitor\n",
    "%sql SET EVENT MONITOR ACTEVMON STATE 1;"
   ]
  },
  {
   "cell_type": "code",
   "execution_count": 8,
   "id": "5c529eb1",
   "metadata": {
    "execution": {
     "iopub.execute_input": "2025-02-25T03:54:36.831977Z",
     "iopub.status.busy": "2025-02-25T03:54:36.831544Z",
     "iopub.status.idle": "2025-02-25T03:54:36.848775Z",
     "shell.execute_reply": "2025-02-25T03:54:36.847477Z"
    },
    "papermill": {
     "duration": 0.028095,
     "end_time": "2025-02-25T03:54:36.852814",
     "exception": false,
     "start_time": "2025-02-25T03:54:36.824719",
     "status": "completed"
    },
    "tags": []
   },
   "outputs": [
    {
     "data": {
      "text/plain": [
       "[None, None, None, 'query3', None]"
      ]
     },
     "execution_count": 8,
     "metadata": {},
     "output_type": "execute_result"
    }
   ],
   "source": [
    "# Set client info\n",
    "%sql CALL WLM_SET_CLIENT_INFO(NULL,NULL,NULL,:queryid,NULL);"
   ]
  },
  {
   "cell_type": "code",
   "execution_count": 9,
   "id": "79f24558",
   "metadata": {
    "execution": {
     "iopub.execute_input": "2025-02-25T03:54:36.868302Z",
     "iopub.status.busy": "2025-02-25T03:54:36.867937Z",
     "iopub.status.idle": "2025-02-25T03:54:48.364353Z",
     "shell.execute_reply": "2025-02-25T03:54:48.363092Z"
    },
    "papermill": {
     "duration": 11.508524,
     "end_time": "2025-02-25T03:54:48.367639",
     "exception": false,
     "start_time": "2025-02-25T03:54:36.859115",
     "status": "completed"
    },
    "tags": []
   },
   "outputs": [
    {
     "data": {
      "text/html": [
       "<div>\n",
       "<style scoped>\n",
       "    .dataframe tbody tr th:only-of-type {\n",
       "        vertical-align: middle;\n",
       "    }\n",
       "\n",
       "    .dataframe tbody tr th {\n",
       "        vertical-align: top;\n",
       "    }\n",
       "\n",
       "    .dataframe thead th {\n",
       "        text-align: right;\n",
       "    }\n",
       "</style>\n",
       "<table border=\"1\" class=\"dataframe\">\n",
       "  <thead>\n",
       "    <tr style=\"text-align: right;\">\n",
       "      <th></th>\n",
       "      <th>SS_EXT_LIST_PRICE</th>\n",
       "      <th>SR_STORE_CREDIT</th>\n",
       "    </tr>\n",
       "  </thead>\n",
       "  <tbody>\n",
       "    <tr>\n",
       "      <th>0</th>\n",
       "      <td>112.20</td>\n",
       "      <td>0.03</td>\n",
       "    </tr>\n",
       "    <tr>\n",
       "      <th>1</th>\n",
       "      <td>12768.00</td>\n",
       "      <td>401.45</td>\n",
       "    </tr>\n",
       "    <tr>\n",
       "      <th>2</th>\n",
       "      <td>11273.68</td>\n",
       "      <td>368.59</td>\n",
       "    </tr>\n",
       "    <tr>\n",
       "      <th>3</th>\n",
       "      <td>NaN</td>\n",
       "      <td>11.21</td>\n",
       "    </tr>\n",
       "    <tr>\n",
       "      <th>4</th>\n",
       "      <td>623.80</td>\n",
       "      <td>27.19</td>\n",
       "    </tr>\n",
       "    <tr>\n",
       "      <th>...</th>\n",
       "      <td>...</td>\n",
       "      <td>...</td>\n",
       "    </tr>\n",
       "    <tr>\n",
       "      <th>347534</th>\n",
       "      <td>8412.90</td>\n",
       "      <td>0.00</td>\n",
       "    </tr>\n",
       "    <tr>\n",
       "      <th>347535</th>\n",
       "      <td>5011.84</td>\n",
       "      <td>265.39</td>\n",
       "    </tr>\n",
       "    <tr>\n",
       "      <th>347536</th>\n",
       "      <td>752.44</td>\n",
       "      <td>59.16</td>\n",
       "    </tr>\n",
       "    <tr>\n",
       "      <th>347537</th>\n",
       "      <td>9640.26</td>\n",
       "      <td>17.40</td>\n",
       "    </tr>\n",
       "    <tr>\n",
       "      <th>347538</th>\n",
       "      <td>4069.12</td>\n",
       "      <td>0.57</td>\n",
       "    </tr>\n",
       "  </tbody>\n",
       "</table>\n",
       "<p>347539 rows × 2 columns</p>\n",
       "</div>"
      ],
      "text/plain": [
       "        SS_EXT_LIST_PRICE  SR_STORE_CREDIT\n",
       "0                  112.20             0.03\n",
       "1                12768.00           401.45\n",
       "2                11273.68           368.59\n",
       "3                     NaN            11.21\n",
       "4                  623.80            27.19\n",
       "...                   ...              ...\n",
       "347534            8412.90             0.00\n",
       "347535            5011.84           265.39\n",
       "347536             752.44            59.16\n",
       "347537            9640.26            17.40\n",
       "347538            4069.12             0.57\n",
       "\n",
       "[347539 rows x 2 columns]"
      ]
     },
     "execution_count": 9,
     "metadata": {},
     "output_type": "execute_result"
    }
   ],
   "source": [
    "%sql {sql_statement}"
   ]
  },
  {
   "cell_type": "code",
   "execution_count": 10,
   "id": "795a1988",
   "metadata": {
    "execution": {
     "iopub.execute_input": "2025-02-25T03:54:48.398367Z",
     "iopub.status.busy": "2025-02-25T03:54:48.397969Z",
     "iopub.status.idle": "2025-02-25T03:54:48.407706Z",
     "shell.execute_reply": "2025-02-25T03:54:48.406188Z"
    },
    "papermill": {
     "duration": 0.028832,
     "end_time": "2025-02-25T03:54:48.410880",
     "exception": false,
     "start_time": "2025-02-25T03:54:48.382048",
     "status": "completed"
    },
    "tags": []
   },
   "outputs": [
    {
     "name": "stdout",
     "output_type": "stream",
     "text": [
      "Command completed.\n"
     ]
    }
   ],
   "source": [
    "# Deactivate the event monitor to ensure its data is written to the activity tables\n",
    "%sql SET EVENT MONITOR ACTEVMON STATE 0"
   ]
  },
  {
   "cell_type": "code",
   "execution_count": 11,
   "id": "85998bda",
   "metadata": {
    "execution": {
     "iopub.execute_input": "2025-02-25T03:54:48.427985Z",
     "iopub.status.busy": "2025-02-25T03:54:48.426956Z",
     "iopub.status.idle": "2025-02-25T03:54:48.443508Z",
     "shell.execute_reply": "2025-02-25T03:54:48.442208Z"
    },
    "papermill": {
     "duration": 0.027934,
     "end_time": "2025-02-25T03:54:48.445631",
     "exception": false,
     "start_time": "2025-02-25T03:54:48.417697",
     "status": "completed"
    },
    "tags": []
   },
   "outputs": [],
   "source": [
    "result = %sql SELECT a.APPL_ID, a.UOW_ID, a.ACTIVITY_ID \\\n",
    "    FROM ACTIVITY_ACTEVMON a \\\n",
    "    WHERE a.ACTIVITY_TYPE = 'READ_DML' AND a.TPMON_ACC_STR = :queryid"
   ]
  },
  {
   "cell_type": "code",
   "execution_count": 12,
   "id": "900eee12",
   "metadata": {
    "execution": {
     "iopub.execute_input": "2025-02-25T03:54:48.459897Z",
     "iopub.status.busy": "2025-02-25T03:54:48.459472Z",
     "iopub.status.idle": "2025-02-25T03:54:48.466390Z",
     "shell.execute_reply": "2025-02-25T03:54:48.465084Z"
    },
    "papermill": {
     "duration": 0.01623,
     "end_time": "2025-02-25T03:54:48.468732",
     "exception": false,
     "start_time": "2025-02-25T03:54:48.452502",
     "status": "completed"
    },
    "tags": []
   },
   "outputs": [],
   "source": [
    "appl_id = result['APPL_ID'].iloc[0]\n",
    "uow_id = result.at[0, 'UOW_ID'].item()\n",
    "activity_id = result.at[0, 'ACTIVITY_ID'].item()\n",
    "event_monitor = 'ACTEVMON'\n",
    "schema = 'DB2INST1'"
   ]
  },
  {
   "cell_type": "code",
   "execution_count": 13,
   "id": "344be566",
   "metadata": {
    "execution": {
     "iopub.execute_input": "2025-02-25T03:54:48.483997Z",
     "iopub.status.busy": "2025-02-25T03:54:48.483440Z",
     "iopub.status.idle": "2025-02-25T03:54:48.492232Z",
     "shell.execute_reply": "2025-02-25T03:54:48.491259Z"
    },
    "papermill": {
     "duration": 0.019943,
     "end_time": "2025-02-25T03:54:48.494609",
     "exception": false,
     "start_time": "2025-02-25T03:54:48.474666",
     "status": "completed"
    },
    "tags": []
   },
   "outputs": [
    {
     "name": "stdout",
     "output_type": "stream",
     "text": [
      "                        APPL_ID  UOW_ID  ACTIVITY_ID\n",
      "0  127.0.0.1.40458.250225035436       5            1\n"
     ]
    }
   ],
   "source": [
    "\n",
    "print(result)"
   ]
  },
  {
   "cell_type": "code",
   "execution_count": 14,
   "id": "6ac4f491",
   "metadata": {
    "execution": {
     "iopub.execute_input": "2025-02-25T03:54:48.516599Z",
     "iopub.status.busy": "2025-02-25T03:54:48.515445Z",
     "iopub.status.idle": "2025-02-25T03:54:48.521927Z",
     "shell.execute_reply": "2025-02-25T03:54:48.520870Z"
    },
    "papermill": {
     "duration": 0.019537,
     "end_time": "2025-02-25T03:54:48.523920",
     "exception": false,
     "start_time": "2025-02-25T03:54:48.504383",
     "status": "completed"
    },
    "tags": []
   },
   "outputs": [
    {
     "name": "stdout",
     "output_type": "stream",
     "text": [
      "appl_id:  127.0.0.1.40458.250225035436\n",
      "uow_id:  5\n",
      "activity_id:  1\n"
     ]
    }
   ],
   "source": [
    "print('appl_id: ', appl_id)\n",
    "print('uow_id: ', uow_id)\n",
    "print('activity_id: ', activity_id)"
   ]
  },
  {
   "cell_type": "code",
   "execution_count": 15,
   "id": "b10cd9bd",
   "metadata": {
    "execution": {
     "iopub.execute_input": "2025-02-25T03:54:48.543137Z",
     "iopub.status.busy": "2025-02-25T03:54:48.542702Z",
     "iopub.status.idle": "2025-02-25T03:54:49.696989Z",
     "shell.execute_reply": "2025-02-25T03:54:49.695582Z"
    },
    "papermill": {
     "duration": 1.169364,
     "end_time": "2025-02-25T03:54:49.700592",
     "exception": false,
     "start_time": "2025-02-25T03:54:48.531228",
     "status": "completed"
    },
    "tags": []
   },
   "outputs": [],
   "source": [
    "%%capture explain_output\n",
    "sql = f'''\"CALL EXPLAIN_FROM_ACTIVITY('{appl_id}', '{uow_id}', '{activity_id}', '{event_monitor}', '{schema}', null, null, null, null, null)\"'''\n",
    "_ = ! db2 \"connect to TPCDS\" \n",
    "\n",
    "explain = %system db2 {sql}"
   ]
  },
  {
   "cell_type": "code",
   "execution_count": 16,
   "id": "87de97a0",
   "metadata": {
    "execution": {
     "iopub.execute_input": "2025-02-25T03:54:49.715675Z",
     "iopub.status.busy": "2025-02-25T03:54:49.715226Z",
     "iopub.status.idle": "2025-02-25T03:54:49.723213Z",
     "shell.execute_reply": "2025-02-25T03:54:49.721899Z"
    },
    "papermill": {
     "duration": 0.017746,
     "end_time": "2025-02-25T03:54:49.725694",
     "exception": false,
     "start_time": "2025-02-25T03:54:49.707948",
     "status": "completed"
    },
    "tags": []
   },
   "outputs": [
    {
     "name": "stdout",
     "output_type": "stream",
     "text": [
      "EXPLAIN_TIME: 2025-02-24-19.54.49.677516\n",
      "SOURCE_NAME: SYSSH200\n",
      "SOURCE_SCHEMA: NULLID\n"
     ]
    }
   ],
   "source": [
    "# Initialize variables\n",
    "explain_time = None\n",
    "source_name = None\n",
    "source_schema = None\n",
    "\n",
    "# Iterate through the list\n",
    "for i in range(len(explain)):\n",
    "    if \"EXPLAIN_TIME\" in explain[i]:\n",
    "        explain_time = explain[i + 1].split(\":\")[-1].strip()\n",
    "    elif \"SOURCE_NAME\" in explain[i]:\n",
    "        source_name = explain[i + 1].split(\":\")[-1].strip()\n",
    "    elif \"SOURCE_SCHEMA\" in explain[i]:\n",
    "        source_schema = explain[i + 1].split(\":\")[-1].strip()\n",
    "\n",
    "# Print extracted values\n",
    "print(\"EXPLAIN_TIME:\", explain_time)\n",
    "print(\"SOURCE_NAME:\", source_name)\n",
    "print(\"SOURCE_SCHEMA:\", source_schema)"
   ]
  },
  {
   "cell_type": "code",
   "execution_count": 17,
   "id": "961954b1",
   "metadata": {
    "execution": {
     "iopub.execute_input": "2025-02-25T03:54:49.741974Z",
     "iopub.status.busy": "2025-02-25T03:54:49.740363Z",
     "iopub.status.idle": "2025-02-25T03:54:49.749574Z",
     "shell.execute_reply": "2025-02-25T03:54:49.748303Z"
    },
    "papermill": {
     "duration": 0.019963,
     "end_time": "2025-02-25T03:54:49.752187",
     "exception": false,
     "start_time": "2025-02-25T03:54:49.732224",
     "status": "completed"
    },
    "tags": []
   },
   "outputs": [
    {
     "data": {
      "text/plain": [
       "'2025-02-24-19.54.49.677516'"
      ]
     },
     "execution_count": 17,
     "metadata": {},
     "output_type": "execute_result"
    }
   ],
   "source": [
    "explain_time"
   ]
  },
  {
   "cell_type": "code",
   "execution_count": 18,
   "id": "acaba3b7",
   "metadata": {
    "execution": {
     "iopub.execute_input": "2025-02-25T03:54:49.772408Z",
     "iopub.status.busy": "2025-02-25T03:54:49.771362Z",
     "iopub.status.idle": "2025-02-25T03:54:49.780669Z",
     "shell.execute_reply": "2025-02-25T03:54:49.779204Z"
    },
    "papermill": {
     "duration": 0.022776,
     "end_time": "2025-02-25T03:54:49.784416",
     "exception": false,
     "start_time": "2025-02-25T03:54:49.761640",
     "status": "completed"
    },
    "tags": []
   },
   "outputs": [
    {
     "name": "stdout",
     "output_type": "stream",
     "text": [
      "Database Name: tpcds\n"
     ]
    }
   ],
   "source": [
    "from dotenv import dotenv_values\n",
    "\n",
    "# Load environment variables from the .env file\n",
    "db2creds = dotenv_values('.env')\n",
    "\n",
    "# Extract the database name\n",
    "database_name = db2creds.get(\"database\")  # Use .get() to avoid KeyError if the key is missing\n",
    "\n",
    "# Print the extracted database name\n",
    "print(\"Database Name:\", database_name)"
   ]
  },
  {
   "cell_type": "markdown",
   "id": "2165a460",
   "metadata": {
    "papermill": {
     "duration": 0.006285,
     "end_time": "2025-02-25T03:54:49.798654",
     "exception": false,
     "start_time": "2025-02-25T03:54:49.792369",
     "status": "completed"
    },
    "tags": []
   },
   "source": [
    "# Generate Explain and Export the Explain output"
   ]
  },
  {
   "cell_type": "code",
   "execution_count": 19,
   "id": "d1108197",
   "metadata": {
    "execution": {
     "iopub.execute_input": "2025-02-25T03:54:49.818324Z",
     "iopub.status.busy": "2025-02-25T03:54:49.817725Z",
     "iopub.status.idle": "2025-02-25T03:54:50.944494Z",
     "shell.execute_reply": "2025-02-25T03:54:50.942315Z"
    },
    "papermill": {
     "duration": 1.141597,
     "end_time": "2025-02-25T03:54:50.947236",
     "exception": false,
     "start_time": "2025-02-25T03:54:49.805639",
     "status": "completed"
    },
    "tags": []
   },
   "outputs": [
    {
     "name": "stdout",
     "output_type": "stream",
     "text": [
      "db2exfmt -d \"tpcds\" -w \"2025-02-24-19.54.49.677516\" -n \"SYSSH200\" -s \"NULLID\" -# 0 -o \"/home/db2inst1/db2-labs/explain/batch-queries/output/2025-02-24-19.54.49.677516/explain.out\"\n"
     ]
    },
    {
     "name": "stderr",
     "output_type": "stream",
     "text": [
      "DB2 Universal Database Version 11.5, 5622-044 (c) Copyright IBM Corp. 1991, 2019\n",
      "Licensed Material - Program Property of IBM\n",
      "IBM DATABASE 2 Explain Table Format Tool\n",
      "\n",
      "Connect to Database Successful.\n"
     ]
    },
    {
     "name": "stderr",
     "output_type": "stream",
     "text": [
      "Output is in /home/db2inst1/db2-labs/explain/batch-queries/output/2025-02-24-19.54.49.677516/explain.out.\n",
      "Executing Connect Reset -- Connect Reset was Successful.\n"
     ]
    },
    {
     "name": "stdout",
     "output_type": "stream",
     "text": [
      "Connecting to the Database.\n",
      "SQL statements have been loaded from sql_statements.json\n",
      "Processing table: ACTIVITYSTMT_ACTEVMON\n",
      "Saved ACTIVITYSTMT_ACTEVMON data to /home/db2inst1/db2-labs/explain/batch-queries/output/2025-02-24-19.54.49.677516/ACTIVITYSTMT_ACTEVMON.csv\n",
      "Processing table: ACTIVITY_ACTEVMON\n"
     ]
    },
    {
     "name": "stdout",
     "output_type": "stream",
     "text": [
      "Saved ACTIVITY_ACTEVMON data to /home/db2inst1/db2-labs/explain/batch-queries/output/2025-02-24-19.54.49.677516/ACTIVITY_ACTEVMON.csv\n",
      "Processing table: EXPLAIN_ACTUALS\n",
      "Saved EXPLAIN_ACTUALS data to /home/db2inst1/db2-labs/explain/batch-queries/output/2025-02-24-19.54.49.677516/EXPLAIN_ACTUALS.csv\n",
      "Processing table: EXPLAIN_INSTANCE\n",
      "Saved EXPLAIN_INSTANCE data to /home/db2inst1/db2-labs/explain/batch-queries/output/2025-02-24-19.54.49.677516/EXPLAIN_INSTANCE.csv\n",
      "Processing table: EXPLAIN_OBJECT\n",
      "Saved EXPLAIN_OBJECT data to /home/db2inst1/db2-labs/explain/batch-queries/output/2025-02-24-19.54.49.677516/EXPLAIN_OBJECT.csv\n",
      "Processing table: EXPLAIN_OPERATOR\n",
      "Saved EXPLAIN_OPERATOR data to /home/db2inst1/db2-labs/explain/batch-queries/output/2025-02-24-19.54.49.677516/EXPLAIN_OPERATOR.csv\n",
      "Processing table: EXPLAIN_PREDICATE\n",
      "Saved EXPLAIN_PREDICATE data to /home/db2inst1/db2-labs/explain/batch-queries/output/2025-02-24-19.54.49.677516/EXPLAIN_PREDICATE.csv\n",
      "Processing table: EXPLAIN_STATEMENT\n"
     ]
    },
    {
     "name": "stdout",
     "output_type": "stream",
     "text": [
      "Saved EXPLAIN_STATEMENT data to /home/db2inst1/db2-labs/explain/batch-queries/output/2025-02-24-19.54.49.677516/EXPLAIN_STATEMENT.csv\n",
      "Processing table: EXPLAIN_STREAM\n",
      "Saved EXPLAIN_STREAM data to /home/db2inst1/db2-labs/explain/batch-queries/output/2025-02-24-19.54.49.677516/EXPLAIN_STREAM.csv\n"
     ]
    }
   ],
   "source": [
    "# Define the subdirectory for a specific explain_time output\n",
    "outputdir = os.path.join(top_level_dir, f\"{explain_time}\")\n",
    "os.makedirs(outputdir, exist_ok=True)  # Create the subdirectory if it doesn't exist\n",
    "\n",
    "# If the directory exists, delete its contents\n",
    "for filename in os.listdir(outputdir):\n",
    "    file_path = os.path.join(outputdir, filename)\n",
    "    if os.path.isfile(file_path) or os.path.islink(file_path):\n",
    "        os.unlink(file_path)  # Remove files and symlinks\n",
    "    elif os.path.isdir(file_path):\n",
    "        shutil.rmtree(file_path)  # Remove subdirectories\n",
    "\n",
    "# Define output file\n",
    "explain_output = \"explain.out\"\n",
    "\n",
    "db2exfmt_cmd = f'''db2exfmt -d \"{database_name}\" -w \"{explain_time}\" -n \"{source_name}\" -s \"{source_schema}\" -# 0 -o \"{outputdir}/{explain_output}\"'''\n",
    "print(db2exfmt_cmd)\n",
    "\n",
    "# Uncomment the following line to execute the command (if running in a shell environment)\n",
    "os.system(db2exfmt_cmd)\n",
    "\n",
    "# Load the dictionary from the JSON file\n",
    "with open(\"export_sql.json\", \"r\") as json_file:\n",
    "    export_sql_statements = json.load(json_file)\n",
    "\n",
    "print(\"SQL statements have been loaded from sql_statements.json\")\n",
    "\n",
    "# Loop through each table in the dictionary\n",
    "for table_name, query in export_sql_statements.items():\n",
    "    print(f\"Processing table: {table_name}\")\n",
    "\n",
    "    # Execute the dynamically generated SQL using %sql magic\n",
    "    df_result = %sql {query}\n",
    "\n",
    "    # Convert result to Pandas DataFrame\n",
    "    # df_result = df_result.DataFrame()\n",
    "\n",
    "    # Save to CSV without including the index in the \"explain\" directory\n",
    "    output_file_path = os.path.join(outputdir, f\"{table_name}.csv\")\n",
    "    df_result.to_csv(output_file_path, index=False)\n",
    "\n",
    "    print(f\"Saved {table_name} data to {output_file_path}\")"
   ]
  },
  {
   "cell_type": "code",
   "execution_count": 20,
   "id": "185f8d54",
   "metadata": {
    "execution": {
     "iopub.execute_input": "2025-02-25T03:54:50.984157Z",
     "iopub.status.busy": "2025-02-25T03:54:50.983589Z",
     "iopub.status.idle": "2025-02-25T03:54:50.994603Z",
     "shell.execute_reply": "2025-02-25T03:54:50.993556Z"
    },
    "papermill": {
     "duration": 0.033934,
     "end_time": "2025-02-25T03:54:50.998165",
     "exception": false,
     "start_time": "2025-02-25T03:54:50.964231",
     "status": "completed"
    },
    "tags": []
   },
   "outputs": [
    {
     "name": "stdout",
     "output_type": "stream",
     "text": [
      "Connection closed.\n"
     ]
    }
   ],
   "source": [
    "%sql CONNECT RESET"
   ]
  }
 ],
 "metadata": {
  "kernelspec": {
   "display_name": ".venv",
   "language": "python",
   "name": "python3"
  },
  "language_info": {
   "codemirror_mode": {
    "name": "ipython",
    "version": 3
   },
   "file_extension": ".py",
   "mimetype": "text/x-python",
   "name": "python",
   "nbconvert_exporter": "python",
   "pygments_lexer": "ipython3",
   "version": "3.12.8"
  },
  "papermill": {
   "default_parameters": {},
   "duration": 18.083455,
   "end_time": "2025-02-25T03:54:51.630983",
   "environment_variables": {},
   "exception": null,
   "input_path": "single-query.ipynb",
   "output_path": "/home/db2inst1/db2-labs/explain/batch-queries/output_notebooks/query3.ipynb",
   "parameters": {
    "queryid": "query3",
    "sql_statement": "SELECT SS_EXT_LIST_PRICE , SR_STORE_CREDIT FROM STORE_SALES INNER JOIN STORE_RETURNS ON SR_CUSTOMER_SK = SS_CUSTOMER_SK AND SR_ITEM_SK = SS_ITEM_SK WHERE SS_ADDR_SK >= 8970 AND SR_CUSTOMER_SK <= 93014"
   },
   "start_time": "2025-02-25T03:54:33.547528",
   "version": "2.6.0"
  }
 },
 "nbformat": 4,
 "nbformat_minor": 5
}