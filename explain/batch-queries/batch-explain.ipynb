{
 "cells": [
  {
   "cell_type": "markdown",
   "metadata": {},
   "source": [
    "# 📊 Automating the Collection of EXPLAIN Plans and Runtime Metrics in Db2 LUW\n",
    "This notebook automates the process of running a SQL query in Db2 and capturing its execution details using EXPLAIN tables and activity event monitors. The workflow includes:\n",
    "\n",
    "1. **Setup of Activity Event Monitor:** Configures an event monitor in Db2 to collect runtime metrics such as execution time and resource usage during query execution.\n",
    "2. **Creation of EXPLAIN Tables:** Sets up EXPLAIN tables in Db2 to store detailed execution plans for SQL queries.\n",
    "3. **Query Execution:** Runs a SQL query to gather execution metrics and analyze its performance.\n",
    "4. **EXPLAIN Plan Generation:** Captures the execution plan of the query to understand how Db2 will process the operation.\n",
    "5. **Exporting Data:** Exports the collected EXPLAIN and activity monitor data as CSV files for external analysis or reporting.\n",
    "\n",
    "For detailed setup instructions and guidance on running this notebook, refer to the [README.md](./README.md) file in the same directory.\n",
    "\n",
    "This notebook provides a fully automated approach for analyzing query performance and gathering runtime metrics, helping database administrators and developers optimize their queries effectively.\n"
   ]
  },
  {
   "cell_type": "code",
   "execution_count": 1,
   "metadata": {},
   "outputs": [],
   "source": [
    "import os\n",
    "from dotenv import dotenv_values\n",
    "import json\n",
    "import shutil\n",
    "import pandas as pd\n",
    "import papermill as pm\n",
    "import re"
   ]
  },
  {
   "cell_type": "code",
   "execution_count": 2,
   "metadata": {},
   "outputs": [],
   "source": [
    "# Set display options to show the full content in the 'sql' column\n",
    "pd.set_option('display.max_colwidth', None)  # Show full column width without truncation\n",
    "pd.set_option('display.expand_frame_repr', False)  # Prevent DataFrame from wrapping across lines"
   ]
  },
  {
   "cell_type": "markdown",
   "metadata": {},
   "source": [
    "# 🔍 Enter the Filename of a List of SQL Queries - each query needs to be in a single line"
   ]
  },
  {
   "cell_type": "code",
   "execution_count": 3,
   "metadata": {},
   "outputs": [],
   "source": [
    "# Define the input SQL file\n",
    "input_file = \"queries.sql\"  # Replace with your actual file name\n",
    "\n",
    "with open(input_file, \"r\") as file:\n",
    "    sql_queries = []\n",
    "    for line in file:\n",
    "        # Strip whitespace and remove trailing semicolons\n",
    "        query = line.strip().rstrip(';')\n",
    "        if query:  # Skip empty lines\n",
    "            # Remove schema names (pattern: schema_name.table_name)\n",
    "            query = re.sub(r'\\b\\w+\\.', '', query)\n",
    "            sql_queries.append(query)\n",
    "\n",
    "df_queries = pd.DataFrame({\n",
    "    \"queryid\": range(1, len(sql_queries) + 1),\n",
    "    \"sql\": sql_queries\n",
    "})"
   ]
  },
  {
   "cell_type": "code",
   "execution_count": 4,
   "metadata": {},
   "outputs": [
    {
     "data": {
      "text/html": [
       "<div>\n",
       "<style scoped>\n",
       "    .dataframe tbody tr th:only-of-type {\n",
       "        vertical-align: middle;\n",
       "    }\n",
       "\n",
       "    .dataframe tbody tr th {\n",
       "        vertical-align: top;\n",
       "    }\n",
       "\n",
       "    .dataframe thead th {\n",
       "        text-align: right;\n",
       "    }\n",
       "</style>\n",
       "<table border=\"1\" class=\"dataframe\">\n",
       "  <thead>\n",
       "    <tr style=\"text-align: right;\">\n",
       "      <th></th>\n",
       "      <th>queryid</th>\n",
       "      <th>sql</th>\n",
       "    </tr>\n",
       "  </thead>\n",
       "  <tbody>\n",
       "    <tr>\n",
       "      <th>0</th>\n",
       "      <td>1</td>\n",
       "      <td>SELECT SS_WHOLESALE_COST , SR_NET_LOSS FROM STORE_SALES INNER JOIN STORE_RETURNS ON SR_TICKET_NUMBER = SS_TICKET_NUMBER AND SR_ITEM_SK = SS_ITEM_SK WHERE SS_STORE_SK = 2 AND SR_RETURNED_DATE_SK = 2451680</td>\n",
       "    </tr>\n",
       "    <tr>\n",
       "      <th>1</th>\n",
       "      <td>2</td>\n",
       "      <td>SELECT CR_RETURNING_ADDR_SK , CS_SALES_PRICE FROM CATALOG_RETURNS INNER JOIN CATALOG_SALES ON CS_ORDER_NUMBER = CR_ORDER_NUMBER AND CS_ITEM_SK = CR_ITEM_SK WHERE CS_NET_PAID &lt;= +68 AND CR_REFUNDED_HDEMO_SK &lt;= 939</td>\n",
       "    </tr>\n",
       "    <tr>\n",
       "      <th>2</th>\n",
       "      <td>3</td>\n",
       "      <td>SELECT SS_EXT_LIST_PRICE , SR_STORE_CREDIT FROM STORE_SALES INNER JOIN STORE_RETURNS ON SR_CUSTOMER_SK = SS_CUSTOMER_SK AND SR_ITEM_SK = SS_ITEM_SK WHERE SS_ADDR_SK &gt;= 8970 AND SR_CUSTOMER_SK &lt;= 93014</td>\n",
       "    </tr>\n",
       "    <tr>\n",
       "      <th>3</th>\n",
       "      <td>4</td>\n",
       "      <td>SELECT SR_ADDR_SK, SR_CDEMO_SK, SR_RETURN_AMT, SR_RETURN_AMT_INC_TAX, SR_RETURN_TIME_SK, SR_REVERSED_CHARGE, SR_STORE_CREDIT, SS_EXT_DISCOUNT_AMT, SS_SOLD_DATE_SK, SS_LIST_PRICE, SS_QUANTITY, SS_SALES_PRICE, SS_SOLD_TIME_SK, SS_WHOLESALE_COST FROM STORE_RETURNS JOIN STORE_SALES ON SR_ITEM_SK = SS_ITEM_SK AND SR_CUSTOMER_SK = SS_CUSTOMER_SK AND SS_TICKET_NUMBER = SR_TICKET_NUMBER</td>\n",
       "    </tr>\n",
       "  </tbody>\n",
       "</table>\n",
       "</div>"
      ],
      "text/plain": [
       "   queryid                                                                                                                                                                                                                                                                                                                                                                                            sql\n",
       "0        1                                                                                                                                                                                    SELECT SS_WHOLESALE_COST , SR_NET_LOSS FROM STORE_SALES INNER JOIN STORE_RETURNS ON SR_TICKET_NUMBER = SS_TICKET_NUMBER AND SR_ITEM_SK = SS_ITEM_SK WHERE SS_STORE_SK = 2 AND SR_RETURNED_DATE_SK = 2451680\n",
       "1        2                                                                                                                                                                           SELECT CR_RETURNING_ADDR_SK , CS_SALES_PRICE FROM CATALOG_RETURNS INNER JOIN CATALOG_SALES ON CS_ORDER_NUMBER = CR_ORDER_NUMBER AND CS_ITEM_SK = CR_ITEM_SK WHERE CS_NET_PAID <= +68 AND CR_REFUNDED_HDEMO_SK <= 939\n",
       "2        3                                                                                                                                                                                       SELECT SS_EXT_LIST_PRICE , SR_STORE_CREDIT FROM STORE_SALES INNER JOIN STORE_RETURNS ON SR_CUSTOMER_SK = SS_CUSTOMER_SK AND SR_ITEM_SK = SS_ITEM_SK WHERE SS_ADDR_SK >= 8970 AND SR_CUSTOMER_SK <= 93014\n",
       "3        4  SELECT SR_ADDR_SK, SR_CDEMO_SK, SR_RETURN_AMT, SR_RETURN_AMT_INC_TAX, SR_RETURN_TIME_SK, SR_REVERSED_CHARGE, SR_STORE_CREDIT, SS_EXT_DISCOUNT_AMT, SS_SOLD_DATE_SK, SS_LIST_PRICE, SS_QUANTITY, SS_SALES_PRICE, SS_SOLD_TIME_SK, SS_WHOLESALE_COST FROM STORE_RETURNS JOIN STORE_SALES ON SR_ITEM_SK = SS_ITEM_SK AND SR_CUSTOMER_SK = SS_CUSTOMER_SK AND SS_TICKET_NUMBER = SR_TICKET_NUMBER"
      ]
     },
     "execution_count": 4,
     "metadata": {},
     "output_type": "execute_result"
    }
   ],
   "source": [
    "df_queries"
   ]
  },
  {
   "cell_type": "code",
   "execution_count": 5,
   "metadata": {},
   "outputs": [],
   "source": [
    "# Define the top-level output directory\n",
    "top_level_dir = os.path.join(os.getcwd(), \"output\")\n",
    "\n",
    "# If the top-level directory exists, delete it and recreate\n",
    "if os.path.exists(top_level_dir):\n",
    "    shutil.rmtree(top_level_dir)\n",
    "os.makedirs(top_level_dir)"
   ]
  },
  {
   "cell_type": "code",
   "execution_count": 6,
   "metadata": {},
   "outputs": [],
   "source": [
    "# Define the output notebooks directory\n",
    "output_notebooks_dir = os.path.join(os.getcwd(), \"output_notebooks\")\n",
    "\n",
    "# If the directory exists, delete and recreate it\n",
    "if os.path.exists(output_notebooks_dir):\n",
    "    shutil.rmtree(output_notebooks_dir)\n",
    "os.makedirs(output_notebooks_dir)"
   ]
  },
  {
   "cell_type": "markdown",
   "metadata": {},
   "source": [
    "Loading Db2 Magic Commands Notebook Extension"
   ]
  },
  {
   "cell_type": "code",
   "execution_count": 7,
   "metadata": {},
   "outputs": [
    {
     "name": "stderr",
     "output_type": "stream",
     "text": [
      "<>:1708: SyntaxWarning: invalid escape sequence '\\s'\n",
      "<>:2305: SyntaxWarning: invalid escape sequence '\\?'\n",
      "/tmp/ipykernel_432093/2299624180.py:1708: SyntaxWarning: invalid escape sequence '\\s'\n",
      "  firstCommand = \"(?:^\\s*)([a-zA-Z]+)(?:\\s+.*|$)\"\n",
      "/tmp/ipykernel_432093/2299624180.py:2305: SyntaxWarning: invalid escape sequence '\\?'\n",
      "  pattern = \"\\?\\*[0-9]+\"\n"
     ]
    },
    {
     "name": "stdout",
     "output_type": "stream",
     "text": [
      "Db2 Extensions Loaded. Version: 2024-09-16\n"
     ]
    }
   ],
   "source": [
    "# Enable Db2 Magic Commands Extensions for Jupyter Notebook\n",
    "if not os.path.isfile('db2.ipynb'):\n",
    "    os.system('wget https://raw.githubusercontent.com/IBM/db2-jupyter/master/db2.ipynb')\n",
    "%run db2.ipynb"
   ]
  },
  {
   "cell_type": "markdown",
   "metadata": {},
   "source": [
    "Connect to Db2"
   ]
  },
  {
   "cell_type": "code",
   "execution_count": 8,
   "metadata": {},
   "outputs": [
    {
     "name": "stdout",
     "output_type": "stream",
     "text": [
      "Connection successful. tpcds @ localhost \n"
     ]
    }
   ],
   "source": [
    "db2creds = dotenv_values('.env')\n",
    "%sql CONNECT CREDENTIALS db2creds"
   ]
  },
  {
   "cell_type": "code",
   "execution_count": 9,
   "metadata": {},
   "outputs": [],
   "source": [
    "%sql CALL ADMIN_CMD(\"UPDATE DATABASE CONFIGURATION USING SECTION_ACTUALS BASE\")"
   ]
  },
  {
   "cell_type": "markdown",
   "metadata": {},
   "source": [
    "b. Deactivate event monitor, `ACTEVMON`"
   ]
  },
  {
   "cell_type": "code",
   "execution_count": 10,
   "metadata": {},
   "outputs": [
    {
     "name": "stdout",
     "output_type": "stream",
     "text": [
      "Command completed.\n"
     ]
    }
   ],
   "source": [
    "%sql SET EVENT MONITOR ACTEVMON STATE 0"
   ]
  },
  {
   "cell_type": "markdown",
   "metadata": {},
   "source": [
    "b. Drop Existing Tables for event monitor `ACTEVMON`"
   ]
  },
  {
   "cell_type": "code",
   "execution_count": 11,
   "metadata": {},
   "outputs": [],
   "source": [
    "%%sql -q\n",
    "DROP TABLE ACTIVITYMETRICS_ACTEVMON;\n",
    "DROP TABLE ACTIVITYSTMT_ACTEVMON;\n",
    "DROP TABLE ACTIVITYVALS_ACTEVMON;\n",
    "DROP TABLE ACTIVITY_ACTEVMON;\n",
    "DROP TABLE CONTROL_ACTEVMON;"
   ]
  },
  {
   "cell_type": "markdown",
   "metadata": {},
   "source": [
    "c. Install Explain Tables"
   ]
  },
  {
   "cell_type": "code",
   "execution_count": 12,
   "metadata": {},
   "outputs": [
    {
     "name": "stdout",
     "output_type": "stream",
     "text": [
      "Command completed.\n"
     ]
    }
   ],
   "source": [
    "%%sql\n",
    "CALL SYSINSTALLOBJECTS('EXPLAIN', 'D', NULL, 'DB2INST1');\n",
    "CALL SYSINSTALLOBJECTS('EXPLAIN', 'C', NULL, 'DB2INST1');"
   ]
  },
  {
   "cell_type": "code",
   "execution_count": 13,
   "metadata": {},
   "outputs": [
    {
     "data": {
      "text/html": [
       "<p><p style=\"border:2px; border-style:solid; border-color:#FF0000; background-color:#ffe6e6; padding: 1em;\">SQL0601N  The name of the object to be created is identical to the existing name \"MAXDBACTIVITYTIME\" of type \"THRESHOLD\".  SQLSTATE=42710 SQLCODE=-601</p>"
      ],
      "text/plain": [
       "<IPython.core.display.HTML object>"
      ]
     },
     "metadata": {},
     "output_type": "display_data"
    },
    {
     "name": "stdout",
     "output_type": "stream",
     "text": [
      "Command completed.\n"
     ]
    }
   ],
   "source": [
    "%sql CREATE THRESHOLD MAXDBACTIVITYTIME FOR DATABASE ACTIVITIES ENFORCEMENT DATABASE WHEN ACTIVITYTOTALTIME > 10 SECONDS STOP EXECUTION"
   ]
  },
  {
   "cell_type": "markdown",
   "metadata": {},
   "source": [
    "d. Alter Workload to Collect Activity Data\n"
   ]
  },
  {
   "cell_type": "code",
   "execution_count": 14,
   "metadata": {},
   "outputs": [
    {
     "name": "stdout",
     "output_type": "stream",
     "text": [
      "Command completed.\n"
     ]
    }
   ],
   "source": [
    "%sql ALTER WORKLOAD SYSDEFAULTUSERWORKLOAD COLLECT ACTIVITY DATA ON ALL WITH DETAILS, SECTION"
   ]
  },
  {
   "cell_type": "markdown",
   "metadata": {},
   "source": [
    "e. Drop and re-create a New Event Monitor, `ACTEVMON`"
   ]
  },
  {
   "cell_type": "code",
   "execution_count": 15,
   "metadata": {},
   "outputs": [
    {
     "name": "stdout",
     "output_type": "stream",
     "text": [
      "Command completed.\n"
     ]
    }
   ],
   "source": [
    "%%sql \n",
    "DROP EVENT MONITOR ACTEVMON;\n",
    "CREATE EVENT MONITOR ACTEVMON FOR ACTIVITIES WRITE TO TABLE;"
   ]
  },
  {
   "cell_type": "code",
   "execution_count": 16,
   "metadata": {},
   "outputs": [
    {
     "data": {
      "application/vnd.jupyter.widget-view+json": {
       "model_id": "cc6520d9d6ef4dd8981c0d6dbfae7fd9",
       "version_major": 2,
       "version_minor": 0
      },
      "text/plain": [
       "Executing:   0%|          | 0/24 [00:00<?, ?cell/s]"
      ]
     },
     "metadata": {},
     "output_type": "display_data"
    },
    {
     "name": "stderr",
     "output_type": "stream",
     "text": [
      "DB2 Universal Database Version 11.5, 5622-044 (c) Copyright IBM Corp. 1991, 2019\n",
      "Licensed Material - Program Property of IBM\n",
      "IBM DATABASE 2 Explain Table Format Tool\n",
      "\n",
      "Connect to Database Successful.\n",
      "Output is in /home/db2inst1/db2-labs/explain/batch-queries/output/2025-02-24-19.54.16.324073/explain.out.\n",
      "Executing Connect Reset -- Connect Reset was Successful.\n"
     ]
    },
    {
     "name": "stdout",
     "output_type": "stream",
     "text": [
      "Connecting to the Database.\n",
      "Executed notebook for query1 and saved to /home/db2inst1/db2-labs/explain/batch-queries/output_notebooks/query1.ipynb\n"
     ]
    },
    {
     "data": {
      "application/vnd.jupyter.widget-view+json": {
       "model_id": "0bee65c7d3024676a3a955240b15764f",
       "version_major": 2,
       "version_minor": 0
      },
      "text/plain": [
       "Executing:   0%|          | 0/24 [00:00<?, ?cell/s]"
      ]
     },
     "metadata": {},
     "output_type": "display_data"
    },
    {
     "name": "stderr",
     "output_type": "stream",
     "text": [
      "DB2 Universal Database Version 11.5, 5622-044 (c) Copyright IBM Corp. 1991, 2019\n",
      "Licensed Material - Program Property of IBM\n",
      "IBM DATABASE 2 Explain Table Format Tool\n",
      "\n",
      "Connect to Database Successful.\n",
      "Output is in /home/db2inst1/db2-labs/explain/batch-queries/output/2025-02-24-19.54.31.672438/explain.out.\n",
      "Executing Connect Reset -- Connect Reset was Successful.\n"
     ]
    },
    {
     "name": "stdout",
     "output_type": "stream",
     "text": [
      "Connecting to the Database.\n",
      "Executed notebook for query2 and saved to /home/db2inst1/db2-labs/explain/batch-queries/output_notebooks/query2.ipynb\n"
     ]
    },
    {
     "data": {
      "application/vnd.jupyter.widget-view+json": {
       "model_id": "016ccf650b424bfba577e4de5617a5a1",
       "version_major": 2,
       "version_minor": 0
      },
      "text/plain": [
       "Executing:   0%|          | 0/24 [00:00<?, ?cell/s]"
      ]
     },
     "metadata": {},
     "output_type": "display_data"
    },
    {
     "name": "stderr",
     "output_type": "stream",
     "text": [
      "DB2 Universal Database Version 11.5, 5622-044 (c) Copyright IBM Corp. 1991, 2019\n",
      "Licensed Material - Program Property of IBM\n",
      "IBM DATABASE 2 Explain Table Format Tool\n",
      "\n",
      "Connect to Database Successful.\n",
      "Output is in /home/db2inst1/db2-labs/explain/batch-queries/output/2025-02-24-19.54.49.677516/explain.out.\n",
      "Executing Connect Reset -- Connect Reset was Successful.\n"
     ]
    },
    {
     "name": "stdout",
     "output_type": "stream",
     "text": [
      "Connecting to the Database.\n",
      "Executed notebook for query3 and saved to /home/db2inst1/db2-labs/explain/batch-queries/output_notebooks/query3.ipynb\n"
     ]
    },
    {
     "data": {
      "application/vnd.jupyter.widget-view+json": {
       "model_id": "21ad71c2b1364b35838a96a2444e12cd",
       "version_major": 2,
       "version_minor": 0
      },
      "text/plain": [
       "Executing:   0%|          | 0/24 [00:00<?, ?cell/s]"
      ]
     },
     "metadata": {},
     "output_type": "display_data"
    },
    {
     "name": "stderr",
     "output_type": "stream",
     "text": [
      "DB2 Universal Database Version 11.5, 5622-044 (c) Copyright IBM Corp. 1991, 2019\n",
      "Licensed Material - Program Property of IBM\n",
      "IBM DATABASE 2 Explain Table Format Tool\n",
      "\n",
      "Connect to Database Successful.\n",
      "Output is in /home/db2inst1/db2-labs/explain/batch-queries/output/2025-02-24-19.55.07.396569/explain.out.\n",
      "Executing Connect Reset -- Connect Reset was Successful.\n"
     ]
    },
    {
     "name": "stdout",
     "output_type": "stream",
     "text": [
      "Connecting to the Database.\n",
      "Executed notebook for query4 and saved to /home/db2inst1/db2-labs/explain/batch-queries/output_notebooks/query4.ipynb\n"
     ]
    }
   ],
   "source": [
    "# Step 2: Loop through DataFrame and call `single-query.ipynb`\n",
    "for index, row in df_queries.iterrows():\n",
    "    query_id = f\"query{row['queryid']}\"  # Convert queryid to \"query1\", \"query2\", etc.\n",
    "    sql = row['sql']\n",
    "\n",
    "    # Define the output path for the executed notebook\n",
    "    output_notebook_path = os.path.join(output_notebooks_dir, f\"{query_id}.ipynb\")\n",
    "\n",
    "    # Execute the notebook with parameters\n",
    "    pm.execute_notebook(\n",
    "        'single-query.ipynb',       # Path to the target notebook\n",
    "        output_notebook_path,       # Path for the output notebook\n",
    "        parameters={\n",
    "            'queryid': query_id,\n",
    "            'sql_statement': sql\n",
    "        }\n",
    "    )\n",
    "\n",
    "    print(f\"Executed notebook for {query_id} and saved to {output_notebook_path}\")"
   ]
  },
  {
   "cell_type": "code",
   "execution_count": 17,
   "metadata": {},
   "outputs": [
    {
     "name": "stdout",
     "output_type": "stream",
     "text": [
      "Command completed.\n"
     ]
    }
   ],
   "source": [
    "%sql DROP THRESHOLD MAXDBACTIVITYTIME"
   ]
  },
  {
   "cell_type": "code",
   "execution_count": 19,
   "metadata": {},
   "outputs": [
    {
     "name": "stdout",
     "output_type": "stream",
     "text": [
      "Connection closed.\n"
     ]
    }
   ],
   "source": [
    "%sql CONNECT RESET"
   ]
  }
 ],
 "metadata": {
  "kernelspec": {
   "display_name": ".venv",
   "language": "python",
   "name": "python3"
  },
  "language_info": {
   "codemirror_mode": {
    "name": "ipython",
    "version": 3
   },
   "file_extension": ".py",
   "mimetype": "text/x-python",
   "name": "python",
   "nbconvert_exporter": "python",
   "pygments_lexer": "ipython3",
   "version": "3.12.8"
  }
 },
 "nbformat": 4,
 "nbformat_minor": 2
}
